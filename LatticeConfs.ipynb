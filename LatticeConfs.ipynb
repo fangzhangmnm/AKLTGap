{
 "cells": [
  {
   "cell_type": "code",
   "execution_count": 3,
   "metadata": {},
   "outputs": [],
   "source": [
    "import numpy as np"
   ]
  },
  {
   "cell_type": "code",
   "execution_count": 2,
   "metadata": {},
   "outputs": [],
   "source": [
    "#honeycomb n=2 0.11833785004516906\n",
    "# <0.09 2.2049844097959275 < 2.18 == False 0tol200iter18s -0.11833785004517627 -0.9716621499548238\n",
    "spins=[2,2,3,2,2,2,2,3,2,2,2,2]\n",
    "conns=[0,1,1,2,2,3,3,4,2,5,5,6,6,7,7,8,8,9,7,10,10,11]\n",
    "conns=np.array(conns).reshape(-1,2)\n",
    "left=[0,1,2,3,4]\n",
    "middle=[5,6]\n",
    "right=[7,8,9,10,11]"
   ]
  },
  {
   "cell_type": "code",
   "execution_count": 3,
   "metadata": {},
   "outputs": [],
   "source": [
    "#diamond n=2 0.12184673964778403\n",
    "#\n",
    "spins=[2,2,2,2,2,2,4,2,2,4,2,2,2,2,2,2]\n",
    "conns=[0,1,1,6,2,3,3,6,4,5,5,6,6,7,7,8,8,9,9,10,10,11,9,12,12,13,9,14,14,15]\n",
    "conns=np.array(conns).reshape(-1,2)\n",
    "left=[0,1,2,3,4,5,6]\n",
    "middle=[7,8]\n",
    "right=[9,10,11,12,13,14,15]"
   ]
  },
  {
   "cell_type": "code",
   "execution_count": 4,
   "metadata": {},
   "outputs": [],
   "source": [
    "#star 0.11104302196557025\n",
    "#8 8 8\n",
    "spins=[3,3,3,3,3,3,3,3,3]\n",
    "conns=[0,1,1,2,0,2,2,3,3,4,3,5,4,5,5,6,6,7,6,8,7,8]\n",
    "conns=np.array(conns).reshape(-1,2)\n",
    "left=[0,1,2]\n",
    "middle=[3,4,5]\n",
    "right=[6,7,8]"
   ]
  },
  {
   "cell_type": "code",
   "execution_count": 5,
   "metadata": {},
   "outputs": [],
   "source": [
    "#square-octagon type1 0.10614468577327663\n",
    "#16 16 16\n",
    "spins=[3,3,3,3,3,3,3,3,3,3,3,3]\n",
    "conns=[0,1,0,2,1,3,2,3,3,4,4,5,4,6,5,7,6,7,7,8,8,9,8,10,9,11,10,11]\n",
    "conns=np.array(conns).reshape(-1,2)\n",
    "left=[0,1,2,3]\n",
    "middle=[4,5,6,7]\n",
    "right=[8,9,10,11]"
   ]
  },
  {
   "cell_type": "code",
   "execution_count": 6,
   "metadata": {},
   "outputs": [],
   "source": [
    "#square-octagon type2 0.15896633104636337\n",
    "#16 16 16\n",
    "spins=[3,3,3,3,3,3,3,3,3,3,3,3]\n",
    "conns=[0,1,0,2,1,3,2,3,3,4,4,5,5,6,6,7,4,7,7,8,8,9,8,10,9,11,10,11]\n",
    "conns=np.array(conns).reshape(-1,2)\n",
    "left=[0,1,2,3]\n",
    "middle=[4,5,6,7]\n",
    "right=[8,9,10,11]"
   ]
  },
  {
   "cell_type": "code",
   "execution_count": 7,
   "metadata": {},
   "outputs": [],
   "source": [
    "#cross 0.19973844996912948\n",
    "#64 16 64\n",
    "spins=[3,3,3,3,3,3,3,3,3,3,3,3,3,3,3,3,3,3,3,3]\n",
    "conns=[0,1,1,3,3,2,2,0, 4,5,5,7,7,6,6,4, 2,7, 3,8,6,9]+[8,10,10,11,11,9,9,8]+[12,13,13,15,15,14,14,12, 16,17,17,19,19,18,18,16, 14,18, 10,15,11,19]\n",
    "conns=np.array(conns).reshape(-1,2)\n",
    "left=[0,1,2,3,4,5,6,7]\n",
    "middle=[8,9,10,11]\n",
    "right=[12,13,14,15,16,17,18,19]"
   ]
  },
  {
   "cell_type": "code",
   "execution_count": 8,
   "metadata": {},
   "outputs": [],
   "source": [
    "#honeycomb n=1 0.15303290847136086\n",
    "#24 6 72\n",
    "spins=[3,2,2,3,2,3,2,2,3,3,2,2,3,2,2,3]\n",
    "conns=[0,1,1,3,2,3,3,4,4,5,5,6,5,7,7,8,8,10,10,9,8,11,11,12,12,13,12,14,14,15]\n",
    "conns=np.array(conns).reshape(-1,2)\n",
    "left=[0,1,2,3,4,5,6]\n",
    "middle=[7,8]\n",
    "right=[9,10,11,12,13,14,15]"
   ]
  },
  {
   "cell_type": "code",
   "execution_count": 9,
   "metadata": {},
   "outputs": [],
   "source": [
    "#honeycomb #method III -0.1rho only one try no check!\n",
    "spins=[3]*30\n",
    "c=np.array([0,1,1,2,2,3,3,4,4,5,5,0])\n",
    "c1=np.concatenate((c,c+6,c+12,c+18,c+24))\n",
    "c2=np.array([4,13,12,10,11,5,16,22,23,29,28,17])\n",
    "conns=np.concatenate((c1,c2)).reshape(-1,2)\n",
    "left=range(0,12)\n",
    "middle=range(12,18)\n",
    "right=range(18,30)"
   ]
  },
  {
   "cell_type": "code",
   "execution_count": 10,
   "metadata": {},
   "outputs": [],
   "source": [
    "#square n=1 0.22035431735046496\n",
    "#144 12 192\n",
    "# <0.09 False 1241iter6:53 2.2816301807370167 < 2.18 == False -0.220354317350464 -0.869645682649536\n",
    "spins=[2,2,4,2,2,4,4,2,2,4,2,2,2,2,4,4,2,2,2,2,4]\n",
    "conns=[0,2,1,2,2,3,2,4,3,5,4,6,5,7,6,8,7,9,8,9, 9,10,9,11, 14,10,14,12,14,16,14,17, 15,11,15,13,15,18,15,19, 17,20,18,20]\n",
    "conns=np.array(conns).reshape(-1,2)\n",
    "left=[0,1,2,3,4,5,6,7,8]\n",
    "middle=[9,10,11]\n",
    "right=[12,13,14,15,16,17,18,19,20]\n"
   ]
  },
  {
   "cell_type": "code",
   "execution_count": 11,
   "metadata": {},
   "outputs": [],
   "source": [
    "#diamond n=1 type1 -0.03=>0.154 tol=0.01 4.9s 20iter\n",
    "# <0.11 20iter19s\n",
    "spins=[4,2,4,2,2,2,4,2,4,2,2,4,2,4,2,2,4,2,2,4,2,2,2,4]\n",
    "conns=[0,1,1,2,2,3,2,4,2,5,5,6,6,7,7,8,6,9,6,10,10,11,11,12,12,13,13,14,13,15,15,16,16,17,13,18,18,19,19,20,19,21,19,22,22,23]\n",
    "conns=np.array(conns).reshape(-1,2)\n",
    "left=range(0,11)\n",
    "middle=range(11,13)\n",
    "right=range(13,24)"
   ]
  },
  {
   "cell_type": "code",
   "execution_count": 12,
   "metadata": {},
   "outputs": [],
   "source": [
    "#diamond n=1 type2 -0.03=>0.157 tol=0.01 26s 30iter\n",
    "#256 12 768\n",
    "# <0.16 20iter35s\n",
    "spins=[4,2,2,4,2,2,4,2,4,2,2,2,4,4,2,2,4,2,4,2,2,4,2]\n",
    "conns=[0,1,1,3,2,3,3,4,3,5,5,8,6,7,7,8,8,9,8,10,10,12,12,11,12,14,14,13,12,15,15,18,16,17,17,18,18,19,18,20,20,21,21,22]\n",
    "conns=np.array(conns).reshape(-1,2)\n",
    "left=range(0,10)\n",
    "middle=range(10,13)\n",
    "right=range(13,23)"
   ]
  },
  {
   "cell_type": "code",
   "execution_count": 13,
   "metadata": {},
   "outputs": [],
   "source": [
    "#diamond n=1 type3\n",
    "#3072 8 384\n",
    "\n",
    "# <0.25 True 0.01tol20iter800s\n",
    "# <0.18 True\n",
    "# <0.16 False\n",
    "\n",
    "spins=[2,4,2,4,2,2,4,2,2,4,2,4,2,2,4,2,2,4,2,4,2,2,4,2]\n",
    "conns=[0,3,1,2,2,3,3,4,3,5,6,7,8,9,9,10,5,11,7,11,8,11,11,12,12,14,13,14,14,15,14,16,16,19,17,18,18,19,19,20,19,21,21,22,22,23]\n",
    "conns=np.array(conns).reshape(-1,2)\n",
    "left=range(0,11)\n",
    "middle=range(11,13)\n",
    "right=range(13,24)"
   ]
  },
  {
   "cell_type": "code",
   "execution_count": 14,
   "metadata": {},
   "outputs": [],
   "source": [
    "#diamond n=1 type4\n",
    "#384 8 2304\n",
    "#-0.03=>0.217 tol=0.01 92s 30iter\n",
    "spins=[2,4,2,4,2,2,4,2,2,4,2,2,4,2,4,2,2,4,2,4,2,2,4,2]\n",
    "conns=[0,3,1,2,2,3,3,4,3,5,5,6,6,7,6,8,8,9,9,10,6,11,11,12,12,13,12,15,12,16,14,15,16,19,17,18,18,19,19,20,19,21,21,22,22,23]\n",
    "conns=np.array(conns).reshape(-1,2)\n",
    "left=range(0,11)\n",
    "middle=range(11,13)\n",
    "right=range(13,24)"
   ]
  },
  {
   "cell_type": "code",
   "execution_count": 15,
   "metadata": {},
   "outputs": [],
   "source": [
    "#triangle n=1\n",
    "#576 12 15552\n",
    "# <0.3 0.01tol21it30min 2.599999999999273 < 2.6 == True \n",
    "# <0.1 0.01tol21it75min 2.281112411699141 < 2.2 == False -0.20159278379910212 -0.898407216200898\n",
    "spins=[2,2,2,6,2,6,2,6,2,6,2,2,6,2,6,2,6,2]\n",
    "conns=[0,7,1,7,2,7,3,4,4,7,5,6,6,7,7,8,8,9,10,9,11,9,12,13,13,9,14,15,15,9,16,17,17,9]\n",
    "conns=np.array(conns).reshape(-1,2)\n",
    "left=range(0,8)\n",
    "middle=range(8,10)\n",
    "right=range(10,18)"
   ]
  },
  {
   "cell_type": "code",
   "execution_count": null,
   "metadata": {},
   "outputs": [],
   "source": [
    "#diamond2 n=1 type1\n",
    "# <0.11 0.01tol20iter10s\n",
    "# <0.09 2.1895682940058556 < 2.18 == False -0.10063899136609167 -0.9893610086339084\n",
    "\n",
    "spins=[4,2,4,2,2,2,4,2,2,4,2,4,2,4,2,2,4,2,2,4,2,2,2,4]\n",
    "conns=[0,1,1,2,2,3,2,4,2,5,5,6,6,7,6,8,8,9,6,10,10,11,11,12,12,13,13,14,13,15,15,16,16,17,13,18,18,19,19,20,19,21,19,22,22,23]\n",
    "conns=np.array(conns).reshape(-1,2)\n",
    "left=range(0,11)\n",
    "middle=range(11,13)\n",
    "right=range(13,24)"
   ]
  },
  {
   "cell_type": "code",
   "execution_count": 17,
   "metadata": {},
   "outputs": [],
   "source": [
    "#diamond2 n=1 type2\n",
    "# <0.16 True 0.01tol20iter33s\n",
    "# <0.15 False\n",
    "# <0.09 2.237260035253284 < 2.18 == False -0.15800521354065233 -0.9319947864593477\n",
    "\n",
    "spins=[4,2,4,2,2,2,4,2,2,4,2,4,2,2,4,2,4,2,2,4,2,4,2]\n",
    "conns=[0,1,1,2,2,3,2,4,2,5,5,6,6,7,6,8,8,9,6,10,10,11,11,12,11,13,13,14,11,15,15,16,16,17,16,18,18,19,16,20,20,21,21,22]\n",
    "conns=np.array(conns).reshape(-1,2)\n",
    "left=range(0,10)\n",
    "middle=range(10,13)\n",
    "right=range(13,23)"
   ]
  },
  {
   "cell_type": "code",
   "execution_count": null,
   "metadata": {},
   "outputs": [],
   "source": [
    "#diamond2 n=1 type3\n",
    "# <0.16 2.332656617130023 < 2.32 == False 0.01tol20iter800s\n",
    "# <0.18 True\n",
    "# <0.09 21it [02:10,  6.20s/it] 2.2503587149506954 < 2.18 == False -0.17531596592589427 -0.9146840340741058\n",
    "\n",
    "spins=[4,2,4,2,2,2,2,4,2,4,2,4,2,4,2,2,2,4,2,2,4,2,4,2]\n",
    "conns=[0,1,1,2,2,3,2,4,2,5,5,11,11,6,6,7,11,8,8,9,9,10,11,12,12,13,13,14,13,15,13,16,16,17,17,18,17,19,19,20,17,21,21,22,22,23]\n",
    "conns=np.array(conns).reshape(-1,2)\n",
    "left=range(0,11)\n",
    "middle=range(11,13)\n",
    "right=range(13,24)"
   ]
  },
  {
   "cell_type": "code",
   "execution_count": null,
   "metadata": {},
   "outputs": [],
   "source": [
    "#diamond2 n=1 type4\n",
    "# <0.16 2.328410425011253 < 2.32 == False 0.01top20iter570s \n",
    "#    -0.1701346867704669 -0.989865313229533\n",
    "# <0.22 True\n",
    "# <0.21 True\n",
    "# <0.20 True\n",
    "# <0.19 True\n",
    "# <0.18 True\n",
    "# <0.17 False -0.1700377423822878\n",
    "# <0.09 21it [01:31,  4.33s/it] 2.2465247700486977 < 2.18 == False -0.17016639698220448\n",
    "\n",
    "spins=[4,2,4,2,2,2,4,2,2,4,2,2,4,2,2,4,2,4,2,2,4,2,4,2]\n",
    "conns=[0,1,1,2,2,3,2,4,2,5,5,6,6,7,6,8,8,9,9,10,6,11,11,12,12,13,12,14,14,15,12,16,16,17,17,18,17,19,19,20,17,21,21,22,22,23]\n",
    "conns=np.array(conns).reshape(-1,2)\n",
    "left=range(0,11)\n",
    "middle=range(11,13)\n",
    "right=range(13,24)"
   ]
  },
  {
   "cell_type": "code",
   "execution_count": null,
   "metadata": {},
   "outputs": [],
   "source": []
  },
  {
   "cell_type": "code",
   "execution_count": 18,
   "metadata": {},
   "outputs": [],
   "source": [
    "#diamond3 n=1 type1\n",
    "#<0.09 2.1799999999999997 < 2.18 == True 0.01tol20iter30s\n",
    "#<0.08 2.159999999999999 < 2.16 == True\n",
    "#<0.05 2.099999995678874 < 2.1 == True\n",
    "#<0.01 2.054809285197688 < 2.02 == False\n",
    "#    -0.046507126770423846 -0.9634928732295762\n",
    "#<0.03 21it [01:13,  3.51s/it] 2.0757856730218083 < 2.06 == False -0.04655648475169205\n",
    "#<0.03 0tol 10001it [4:00:58,  1.45s/it] 2.0763539515193634 -0.04716343828144798\n",
    "spins=[2,4,2,2,4,2,4,2,2,4,2,2,4,2,2,4,2,4,2,2,4,2,2,4,2]\n",
    "conns=[1,2,2,3,3,10,4,5,5,6,7,8,8,5,5,9,9,10,10,11,10,12,12,13,13,14,14,21,15,16,16,17,18,19,19,16,16,20,20,21,21,22,21,23,23,24,24,25]\n",
    "conns=np.array(conns).reshape(-1,2)-1\n",
    "left=range(0,11)\n",
    "middle=range(11,14)\n",
    "right=range(14,25)"
   ]
  },
  {
   "cell_type": "code",
   "execution_count": null,
   "metadata": {},
   "outputs": [],
   "source": [
    "#diamond3 n=1 type2\n",
    "#<0.09 2.2369663549037075 < 2.18 == False 0.01tol20iter380s\n",
    "#    -0.15762596228413495 -0.9323740377158651【？？？2.2385349108209516 -0.1596558821273531\n",
    "# 0.0001tol 161it [09:41,  3.61s/it] \n",
    "#0tol 3681it [3:26:52,  3.37s/it] 2.238563421742793 -0.1596928780087153\n",
    "\n",
    "spins=[2,4,2,2,4,2,4,2,2,4,2,2,4,2,4,2,2,4,2,2,4,2,2,4,2]\n",
    "conns=[1,2,2,3,3,10,4,5,5,6,7,8,8,5,5,9,9,10,10,11,10,12,12,13,13,14,15,16,16,13,13,17,17,18,18,19,20,21,21,22,22,18,18,23,23,24,24,25]\n",
    "conns=np.array(conns).reshape(-1,2)-1\n",
    "left=range(0,11)\n",
    "middle=range(11,14)\n",
    "right=range(14,25)"
   ]
  },
  {
   "cell_type": "code",
   "execution_count": 20,
   "metadata": {},
   "outputs": [],
   "source": [
    "#diamond3 n=1 type3\n",
    "# <0.09 2.2503664491359507 < 2.18 == False 21it [04:35, 13.11s/it]\n",
    "# -0.17532642660848852 -0.9146735733915116\n",
    "\n",
    "spins=[4,2,2,4,2,2,2,4,2,2,4,2,4,2,2,4,2,2,4,2,2,4,2,2,4,2]\n",
    "conns=[1,2,2,4,3,4,4,5,4,6,6,13,13,14,7,8,8,9,9,13,13,10,10,11,11,12,14,16,15,16,16,17,16,18,18,19,19,20,21,22,22,23,23,19,19,24,24,25,25,26]\n",
    "conns=np.array(conns).reshape(-1,2)-1\n",
    "left=range(0,12)\n",
    "middle=range(12,14)\n",
    "right=range(14,26)"
   ]
  },
  {
   "cell_type": "code",
   "execution_count": 23,
   "metadata": {},
   "outputs": [
    {
     "data": {
      "text/plain": [
       "1.085094"
      ]
     },
     "execution_count": 23,
     "metadata": {},
     "output_type": "execute_result"
    }
   ],
   "source": [
    "0.047163*2+0.159692*4+0.176*2"
   ]
  },
  {
   "cell_type": "code",
   "execution_count": 22,
   "metadata": {},
   "outputs": [
    {
     "data": {
      "text/plain": [
       "0.01"
      ]
     },
     "execution_count": 22,
     "metadata": {},
     "output_type": "execute_result"
    }
   ],
   "source": [
    "0.08/8"
   ]
  },
  {
   "cell_type": "code",
   "execution_count": null,
   "metadata": {},
   "outputs": [],
   "source": [
    "#diamond4 n=1 type1\n",
    "# <0.05 0.01tol 2.155167148496411 < 2.1 == False 21it [00:24,  1.16s/it]\n",
    "# -0.11213458427280543 -0.9378654157271946\n",
    "spins=[2,4,2,2,2,4,2,4,2,4,2,4,2,2,4,2,4,2,4,2,2,2,4,2]\n",
    "conns=[1,2,2,3,3,6,4,6,5,6,6,7,7,10,8,9,9,10,10,11,11,12,12,13,13,17,14,15,15,16,16,17,17,18,18,19,19,20,19,21,19,22,22,23,23,24]\n",
    "conns=np.array(conns).reshape(-1,2)-1\n",
    "left=range(0,11)\n",
    "middle=range(11,13)\n",
    "right=range(13,24)"
   ]
  },
  {
   "cell_type": "code",
   "execution_count": null,
   "metadata": {},
   "outputs": [],
   "source": [
    "#diamond4 n=1 type2\n",
    "# <0.05 0.01tol 2.2077463406838165 < 2.1 == False 21it [02:37,  7.52s/it]\n",
    "# -0.18166538287527206 -0.8683346171247279\n",
    "spins=[2,4,2,4,2,4,2,2,4,2,2,4,2,2,4,2,2,4,2,2,2,4,2,4]\n",
    "conns=[1,2,2,3,3,6,4,5,5,6,6,7,8,9,9,10,7,12,10,12,11,12,12,13,13,24,14,15,15,16,16,24,24,23,23,22,22,21,22,20,22,19,19,18,18,17]\n",
    "conns=np.array(conns).reshape(-1,2)-1\n",
    "left=range(0,11)\n",
    "middle=range(11,13)\n",
    "right=range(13,24)"
   ]
  },
  {
   "cell_type": "code",
   "execution_count": null,
   "metadata": {},
   "outputs": [],
   "source": [
    "#diamond4 n=1 type3\n",
    "# <0.05 0.01tol 2.1995718994337277 < 2.1 == False 21it [00:44,  2.14s/it]\n",
    "# -0.16996042394365057 -0.8800395760563495\n",
    "spins=[2,4,2,4,2,4,2,2,4,2,4,2,2,4,2,4,2,2,2,4,2,4,2]\n",
    "conns=[1,2,2,3,3,6,4,5,5,6,6,7,8,9,9,10,7,11,10,11,11,12,11,13,13,16,14,15,15,16,16,23,23,22,22,17,22,18,22,21,21,20,20,19]\n",
    "conns=np.array(conns).reshape(-1,2)-1\n",
    "left=range(0,10)\n",
    "middle=range(10,13)\n",
    "right=range(13,23)"
   ]
  },
  {
   "cell_type": "code",
   "execution_count": null,
   "metadata": {},
   "outputs": [],
   "source": [
    "#diamond4 n=1 type4\n",
    "# <0.1 0.01tol 2.400383891573615 < 2.2 == False 21it [09:13, 26.35s/it]\n",
    "# -0.5039988214674349 -0.5960011785325652\n",
    "spins=[4,2,4,2,4,2,2,4,2,2,2,4,2,2,4,2,4,2,2,4,2,2,4,2]\n",
    "conns=[1,2,2,3,3,4,4,5,5,6,3,7,7,8,8,9,8,10,8,11,11,12,12,13,14,15,15,16,16,12,17,18,18,12,19,20,20,21,21,23,22,23,24,23,23,13]\n",
    "conns=np.array(conns).reshape(-1,2)-1\n",
    "left=range(0,11)\n",
    "middle=range(11,13)\n",
    "right=range(13,24)"
   ]
  },
  {
   "cell_type": "code",
   "execution_count": null,
   "metadata": {},
   "outputs": [],
   "source": [
    "#diamond5 n=1 type1 \n",
    "# <0.02 0.01tol 2.0652864175674677 < 2.04 == False 21it [01:14,  3.52s/it]\n",
    "# -0.04652013805071065 -0.9734798619492894\n",
    "spins=[2,4,2,2,4,2,2,2,4,2,2,4,2,4,2,2,4,2,2,2,4,2,2,2,4,2,4]\n",
    "conns=[1,2,2,3,3,12,4,5,5,6,6,9,7,9,8,9,9,10,10,12,11,12,12,13,13,14,14,15,16,17,17,18,18,21,19,21,20,21,21,22,22,27,23,27,24,25,25,26,26,27,27,15]\n",
    "conns=np.array(conns).reshape(-1,2)-1\n",
    "left=range(0,12)\n",
    "middle=range(12,15)\n",
    "right=range(15,27)"
   ]
  },
  {
   "cell_type": "code",
   "execution_count": null,
   "metadata": {},
   "outputs": [],
   "source": [
    "#diamond5 n=1 type2 (doubled)\n",
    "#<0.02 0.01tol 2.1555742838791514 < 2.04 == False 21it [02:49,  8.07s/it]\n",
    "# -0.15711798555204232 -0.8628820144479576\n",
    "spins=[2,4,2,2,4,2,2,2,4,2,2,4,2,4,2,2,4,2,2,4,2,2,4,2,2,4,2]\n",
    "conns=[1,2,2,3,3,12,4,5,5,6,6,9,7,9,8,9,9,10,10,12,11,12,12,13,13,14,14,15,16,17,17,18,18,14,19,20,20,21,21,26,22,23,23,24,24,26,25,26,26,27,27,14]\n",
    "conns=np.array(conns).reshape(-1,2)-1\n",
    "left=range(0,12)\n",
    "middle=range(12,15)\n",
    "right=range(15,27)"
   ]
  },
  {
   "cell_type": "code",
   "execution_count": null,
   "metadata": {},
   "outputs": [],
   "source": [
    "#diamond5 n=1 type3 \n",
    "#<0.1 0.01tol 2.253406040887474 < 2.2 == False 21it [37:23, 106.82s/it]\n",
    "# -0.16387313080733928 -0.9361268691926607\n",
    "spins=[2,4,2,2,4,2,2,4,2,2,2,4,2,4,2,2,4,2,2,4,2,2,4,2,2,2,4]\n",
    "conns=[1,2,2,3,3,8,4,5,5,6,6,8,7,8,8,9,9,12,10,12,11,12,12,13,13,14,14,15,16,17,17,18,18,14,19,20,20,21,21,14,22,23,23,24,24,27,25,27,26,27,27,15]\n",
    "conns=np.array(conns).reshape(-1,2)-1\n",
    "left=range(0,12)\n",
    "middle=range(12,15)\n",
    "right=range(15,27)"
   ]
  },
  {
   "cell_type": "code",
   "execution_count": null,
   "metadata": {},
   "outputs": [],
   "source": []
  },
  {
   "cell_type": "code",
   "execution_count": null,
   "metadata": {},
   "outputs": [],
   "source": [
    "# diamond6 n=1 type1 x2\n",
    "#<0.01 0.01tol 2.053248017654267 < 2.02 == False 21it [07:33, 21.61s/it]\n",
    "# -0.04480766809329262 -0.9651923319067074\n",
    "\n",
    "spins=[2,4,2,2,2,4,2,2,2,4,2,4,2,4,2,2,4,2,2,2,4,2,2,4,2,4,2]\n",
    "conns=[1,2,2,3,3,12,4,6,5,6,6,7,7,12,8,10,9,10,10,11,11,12,12,13,13,14,14,15,15,24,16,17,17,18,17,19,19,24,20,21,21,22,21,23,23,24,24,25,25,26,26,27]\n",
    "conns=np.array(conns).reshape(-1,2)-1\n",
    "left=range(0,12)\n",
    "middle=range(12,15)\n",
    "right=range(15,27)"
   ]
  },
  {
   "cell_type": "code",
   "execution_count": null,
   "metadata": {},
   "outputs": [],
   "source": [
    "# diamond6 n=1 type2 x8\n",
    "#<0.03 0.01tol 2.137824584016589 < 2.06 == False 21it [02:19,  6.65s/it]\n",
    "# -0.1182627872465063 -0.9117372127534937\n",
    "\n",
    "spins=[2,2,4,2,2,2,4,2,2,4,2,4,2,4,2,2,4,2,4,2,2,2,4,2,2,4,2]\n",
    "conns=[1,3,2,3,3,4,4,12,9,10,10,11,11,12,5,7,6,7,7,8,8,12,12,13,13,14,14,15,14,16,16,17,18,19,19,20,20,17,21,23,22,23,23,24,24,17,17,25,25,26,26,27]\n",
    "conns=np.array(conns).reshape(-1,2)-1\n",
    "left=range(0,12)\n",
    "middle=range(12,15)\n",
    "right=range(15,27)"
   ]
  },
  {
   "cell_type": "code",
   "execution_count": null,
   "metadata": {},
   "outputs": [],
   "source": [
    "# diamond6 n=1 type3 x2\n",
    "# -0.4320738657936039\n",
    "\n",
    "spins=[2,2,4,2,2,4,2,2,4,2,4,2,2,2,4,2,2,4,2,2,4,2,2,4,2,4,2]\n",
    "conns=[1,3,2,3,3,4,4,11,5,6,6,7,7,11,8,9,9,10,10,11,11,12,12,15,13,15,14,15,15,27,27,26,20,21,21,22,22,26,23,24,24,25,25,26,26,19,19,18,18,16,18,17]\n",
    "conns=np.array(conns).reshape(-1,2)-1\n",
    "left=range(0,12)\n",
    "middle=range(12,15)\n",
    "right=range(15,27)"
   ]
  },
  {
   "cell_type": "code",
   "execution_count": null,
   "metadata": {},
   "outputs": [],
   "source": []
  },
  {
   "cell_type": "code",
   "execution_count": null,
   "metadata": {},
   "outputs": [],
   "source": [
    "# diamond7 n=1 type1 x2\n",
    "\n",
    "\n",
    "spins=[2,4,2,2,4,2,2,4,2,2,4,2,2,4,2,2,4,2,2,4,2,2,4,2,2,4,2]\n",
    "conns=[1,2,2,3,3,5,4,5,5,6,6,8,7,8,8,9,8,10,10,11,11,12,11,13,13,14,14,15,15,17,16,17,17,18,18,20,19,20,20,21,20,22,22,23,23,24,23,25,25,26,26,27]\n",
    "conns=np.array(conns).reshape(-1,2)-1\n",
    "left=range(0,12)\n",
    "middle=range(12,15)\n",
    "right=range(15,27)"
   ]
  },
  {
   "cell_type": "code",
   "execution_count": null,
   "metadata": {},
   "outputs": [],
   "source": [
    "# diamond7 n=1 type2 x4\n",
    "# <0.10 0.01tol 2.259755969486479 < 2.2 == False 21it [05:06, 14.57s/it]\n",
    "# -0.17218519018767786 -0.9278148098123222\n",
    "\n",
    "spins=[2,4,2,2,4,2,2,4,2,2,4,2,2,4,2,2,4,2,2,4,2,2,4,2,2,4,2]\n",
    "conns=[1,2,2,3,3,5,4,5,5,6,6,14,13,14,14,15,7,8,8,9,9,11,10,11,11,12,12,14,15,17,16,17,17,18,18,20,19,20,20,21,20,22,22,23,23,24,23,25,25,26,26,27]\n",
    "conns=np.array(conns).reshape(-1,2)-1\n",
    "left=range(0,12)\n",
    "middle=range(12,15)\n",
    "right=range(15,27)"
   ]
  },
  {
   "cell_type": "code",
   "execution_count": null,
   "metadata": {},
   "outputs": [],
   "source": [
    "# diamond7 n=1 type3 x2\n",
    "\n",
    "spins=[2,4,2,2,4,2,2,4,2,2,4,2,2,4,2,2,4,2,2,4,2,2,4,2,2,4,2]\n",
    "conns=[1,2,2,3,3,5,4,5,5,6,6,8,7,8,8,9,8,13,10,11,11,12,12,14,13,14,14,15,16,17,17,18,18,20,19,20,20,21,21,23,22,23,23,24,23,15,25,26,26,27,27,14]\n",
    "conns=np.array(conns).reshape(-1,2)-1\n",
    "left=range(0,12)\n",
    "middle=range(12,15)\n",
    "right=range(15,27)"
   ]
  },
  {
   "cell_type": "code",
   "execution_count": null,
   "metadata": {},
   "outputs": [],
   "source": []
  },
  {
   "cell_type": "code",
   "execution_count": 3,
   "metadata": {},
   "outputs": [
    {
     "ename": "NameError",
     "evalue": "name 'np' is not defined",
     "output_type": "error",
     "traceback": [
      "\u001b[0;31m---------------------------------------------------------------------------\u001b[0m",
      "\u001b[0;31mNameError\u001b[0m                                 Traceback (most recent call last)",
      "\u001b[0;32m<ipython-input-3-281a4e922fc9>\u001b[0m in \u001b[0;36m<module>\u001b[0;34m\u001b[0m\n\u001b[1;32m      9\u001b[0m \u001b[0mspins\u001b[0m\u001b[0;34m=\u001b[0m\u001b[0;34m[\u001b[0m\u001b[0;36m2\u001b[0m\u001b[0;34m,\u001b[0m\u001b[0;36m2\u001b[0m\u001b[0;34m,\u001b[0m\u001b[0;36m2\u001b[0m\u001b[0;34m,\u001b[0m\u001b[0;36m4\u001b[0m\u001b[0;34m,\u001b[0m\u001b[0;36m2\u001b[0m\u001b[0;34m,\u001b[0m \u001b[0;36m2\u001b[0m\u001b[0;34m,\u001b[0m\u001b[0;36m2\u001b[0m\u001b[0;34m,\u001b[0m\u001b[0;36m2\u001b[0m\u001b[0;34m,\u001b[0m\u001b[0;36m4\u001b[0m\u001b[0;34m,\u001b[0m\u001b[0;36m2\u001b[0m\u001b[0;34m,\u001b[0m \u001b[0;36m2\u001b[0m\u001b[0;34m,\u001b[0m\u001b[0;36m2\u001b[0m\u001b[0;34m,\u001b[0m\u001b[0;36m2\u001b[0m\u001b[0;34m,\u001b[0m\u001b[0;36m4\u001b[0m\u001b[0;34m,\u001b[0m\u001b[0;36m2\u001b[0m\u001b[0;34m,\u001b[0m \u001b[0;36m4\u001b[0m\u001b[0;34m,\u001b[0m \u001b[0;36m2\u001b[0m\u001b[0;34m,\u001b[0m\u001b[0;36m2\u001b[0m\u001b[0;34m,\u001b[0m\u001b[0;36m2\u001b[0m\u001b[0;34m,\u001b[0m\u001b[0;36m4\u001b[0m\u001b[0;34m,\u001b[0m\u001b[0;36m2\u001b[0m\u001b[0;34m,\u001b[0m \u001b[0;36m2\u001b[0m\u001b[0;34m,\u001b[0m\u001b[0;36m2\u001b[0m\u001b[0;34m,\u001b[0m\u001b[0;36m2\u001b[0m\u001b[0;34m,\u001b[0m\u001b[0;36m4\u001b[0m\u001b[0;34m,\u001b[0m\u001b[0;36m2\u001b[0m\u001b[0;34m,\u001b[0m \u001b[0;36m2\u001b[0m\u001b[0;34m,\u001b[0m\u001b[0;36m2\u001b[0m\u001b[0;34m,\u001b[0m\u001b[0;36m2\u001b[0m\u001b[0;34m,\u001b[0m\u001b[0;36m4\u001b[0m\u001b[0;34m,\u001b[0m\u001b[0;36m2\u001b[0m\u001b[0;34m,\u001b[0m \u001b[0;36m2\u001b[0m\u001b[0;34m,\u001b[0m\u001b[0;36m2\u001b[0m\u001b[0;34m,\u001b[0m\u001b[0;36m2\u001b[0m\u001b[0;34m,\u001b[0m\u001b[0;36m4\u001b[0m\u001b[0;34m,\u001b[0m\u001b[0;36m2\u001b[0m\u001b[0;34m,\u001b[0m \u001b[0;36m4\u001b[0m\u001b[0;34m]\u001b[0m\u001b[0;34m\u001b[0m\u001b[0;34m\u001b[0m\u001b[0m\n\u001b[1;32m     10\u001b[0m \u001b[0mconns\u001b[0m\u001b[0;34m=\u001b[0m\u001b[0;34m[\u001b[0m\u001b[0;36m1\u001b[0m\u001b[0;34m,\u001b[0m\u001b[0;36m4\u001b[0m\u001b[0;34m,\u001b[0m\u001b[0;36m2\u001b[0m\u001b[0;34m,\u001b[0m\u001b[0;36m4\u001b[0m\u001b[0;34m,\u001b[0m\u001b[0;36m3\u001b[0m\u001b[0;34m,\u001b[0m\u001b[0;36m4\u001b[0m\u001b[0;34m,\u001b[0m\u001b[0;36m4\u001b[0m\u001b[0;34m,\u001b[0m\u001b[0;36m5\u001b[0m\u001b[0;34m,\u001b[0m\u001b[0;36m5\u001b[0m\u001b[0;34m,\u001b[0m\u001b[0;36m16\u001b[0m\u001b[0;34m,\u001b[0m \u001b[0;36m6\u001b[0m\u001b[0;34m,\u001b[0m\u001b[0;36m9\u001b[0m\u001b[0;34m,\u001b[0m\u001b[0;36m7\u001b[0m\u001b[0;34m,\u001b[0m\u001b[0;36m9\u001b[0m\u001b[0;34m,\u001b[0m\u001b[0;36m8\u001b[0m\u001b[0;34m,\u001b[0m\u001b[0;36m9\u001b[0m\u001b[0;34m,\u001b[0m\u001b[0;36m9\u001b[0m\u001b[0;34m,\u001b[0m\u001b[0;36m10\u001b[0m\u001b[0;34m,\u001b[0m\u001b[0;36m10\u001b[0m\u001b[0;34m,\u001b[0m\u001b[0;36m16\u001b[0m\u001b[0;34m,\u001b[0m \u001b[0;36m11\u001b[0m\u001b[0;34m,\u001b[0m\u001b[0;36m14\u001b[0m\u001b[0;34m,\u001b[0m\u001b[0;36m12\u001b[0m\u001b[0;34m,\u001b[0m\u001b[0;36m14\u001b[0m\u001b[0;34m,\u001b[0m\u001b[0;36m13\u001b[0m\u001b[0;34m,\u001b[0m\u001b[0;36m14\u001b[0m\u001b[0;34m,\u001b[0m\u001b[0;36m14\u001b[0m\u001b[0;34m,\u001b[0m\u001b[0;36m15\u001b[0m\u001b[0;34m,\u001b[0m\u001b[0;36m15\u001b[0m\u001b[0;34m,\u001b[0m\u001b[0;36m16\u001b[0m\u001b[0;34m,\u001b[0m \u001b[0;36m16\u001b[0m\u001b[0;34m,\u001b[0m\u001b[0;36m17\u001b[0m\u001b[0;34m,\u001b[0m \u001b[0;36m17\u001b[0m\u001b[0;34m,\u001b[0m\u001b[0;36m20\u001b[0m\u001b[0;34m,\u001b[0m\u001b[0;36m18\u001b[0m\u001b[0;34m,\u001b[0m\u001b[0;36m20\u001b[0m\u001b[0;34m,\u001b[0m\u001b[0;36m19\u001b[0m\u001b[0;34m,\u001b[0m\u001b[0;36m20\u001b[0m\u001b[0;34m,\u001b[0m\u001b[0;36m21\u001b[0m\u001b[0;34m,\u001b[0m\u001b[0;36m20\u001b[0m\u001b[0;34m,\u001b[0m \u001b[0;36m22\u001b[0m\u001b[0;34m,\u001b[0m\u001b[0;36m25\u001b[0m\u001b[0;34m,\u001b[0m\u001b[0;36m23\u001b[0m\u001b[0;34m,\u001b[0m\u001b[0;36m25\u001b[0m\u001b[0;34m,\u001b[0m\u001b[0;36m24\u001b[0m\u001b[0;34m,\u001b[0m\u001b[0;36m25\u001b[0m\u001b[0;34m,\u001b[0m\u001b[0;36m25\u001b[0m\u001b[0;34m,\u001b[0m\u001b[0;36m26\u001b[0m\u001b[0;34m,\u001b[0m\u001b[0;36m26\u001b[0m\u001b[0;34m,\u001b[0m\u001b[0;36m37\u001b[0m\u001b[0;34m,\u001b[0m \u001b[0;36m27\u001b[0m\u001b[0;34m,\u001b[0m\u001b[0;36m30\u001b[0m\u001b[0;34m,\u001b[0m\u001b[0;36m28\u001b[0m\u001b[0;34m,\u001b[0m\u001b[0;36m30\u001b[0m\u001b[0;34m,\u001b[0m\u001b[0;36m29\u001b[0m\u001b[0;34m,\u001b[0m\u001b[0;36m30\u001b[0m\u001b[0;34m,\u001b[0m\u001b[0;36m30\u001b[0m\u001b[0;34m,\u001b[0m\u001b[0;36m31\u001b[0m\u001b[0;34m,\u001b[0m\u001b[0;36m31\u001b[0m\u001b[0;34m,\u001b[0m\u001b[0;36m37\u001b[0m\u001b[0;34m,\u001b[0m \u001b[0;36m32\u001b[0m\u001b[0;34m,\u001b[0m\u001b[0;36m35\u001b[0m\u001b[0;34m,\u001b[0m\u001b[0;36m33\u001b[0m\u001b[0;34m,\u001b[0m\u001b[0;36m35\u001b[0m\u001b[0;34m,\u001b[0m\u001b[0;36m34\u001b[0m\u001b[0;34m,\u001b[0m\u001b[0;36m35\u001b[0m\u001b[0;34m,\u001b[0m\u001b[0;36m35\u001b[0m\u001b[0;34m,\u001b[0m\u001b[0;36m36\u001b[0m\u001b[0;34m,\u001b[0m\u001b[0;36m36\u001b[0m\u001b[0;34m,\u001b[0m\u001b[0;36m37\u001b[0m\u001b[0;34m,\u001b[0m \u001b[0;36m37\u001b[0m\u001b[0;34m,\u001b[0m\u001b[0;36m21\u001b[0m\u001b[0;34m]\u001b[0m\u001b[0;34m\u001b[0m\u001b[0;34m\u001b[0m\u001b[0m\n\u001b[0;32m---> 11\u001b[0;31m \u001b[0mconns\u001b[0m\u001b[0;34m=\u001b[0m\u001b[0mnp\u001b[0m\u001b[0;34m.\u001b[0m\u001b[0marray\u001b[0m\u001b[0;34m(\u001b[0m\u001b[0mconns\u001b[0m\u001b[0;34m)\u001b[0m\u001b[0;34m.\u001b[0m\u001b[0mreshape\u001b[0m\u001b[0;34m(\u001b[0m\u001b[0;34m-\u001b[0m\u001b[0;36m1\u001b[0m\u001b[0;34m,\u001b[0m\u001b[0;36m2\u001b[0m\u001b[0;34m)\u001b[0m\u001b[0;34m-\u001b[0m\u001b[0;36m1\u001b[0m\u001b[0;34m\u001b[0m\u001b[0;34m\u001b[0m\u001b[0m\n\u001b[0m\u001b[1;32m     12\u001b[0m \u001b[0mleft\u001b[0m\u001b[0;34m=\u001b[0m\u001b[0mrange\u001b[0m\u001b[0;34m(\u001b[0m\u001b[0;36m0\u001b[0m\u001b[0;34m,\u001b[0m\u001b[0;36m16\u001b[0m\u001b[0;34m)\u001b[0m\u001b[0;34m\u001b[0m\u001b[0;34m\u001b[0m\u001b[0m\n\u001b[1;32m     13\u001b[0m \u001b[0mmiddle\u001b[0m\u001b[0;34m=\u001b[0m\u001b[0mrange\u001b[0m\u001b[0;34m(\u001b[0m\u001b[0;36m16\u001b[0m\u001b[0;34m,\u001b[0m\u001b[0;36m21\u001b[0m\u001b[0;34m)\u001b[0m\u001b[0;34m\u001b[0m\u001b[0;34m\u001b[0m\u001b[0m\n",
      "\u001b[0;31mNameError\u001b[0m: name 'np' is not defined"
     ]
    }
   ],
   "source": [
    "# diamond8 n=1 type8 x12\n",
    "# <0.06 0.01tol 2.1199999999999948 < 2.12 == True\n",
    "# <0.03 0.01tol 2.0700792853589918 < 2.06 == False\n",
    "# -0.04050477911678796 -0.9894952208832121\n",
    "# <0.03 0tol 2.0708429296843014 < 2.06 == False 1121it [17:45:08, 57.01s/it]\n",
    "# -0.0413101538815735 -0.9886898461184266\n",
    "# svd method: 0.04131015388150461 811it [8:45:54, 38.91s/it]\n",
    "\n",
    "spins=[2,2,2,4,2, 2,2,2,4,2, 2,2,2,4,2, 4, 2,2,2,4,2, 2,2,2,4,2, 2,2,2,4,2, 2,2,2,4,2, 4]\n",
    "conns=[1,4,2,4,3,4,4,5,5,16, 6,9,7,9,8,9,9,10,10,16, 11,14,12,14,13,14,14,15,15,16, 16,17, 17,20,18,20,19,20,21,20, 22,25,23,25,24,25,25,26,26,37, 27,30,28,30,29,30,30,31,31,37, 32,35,33,35,34,35,35,36,36,37, 37,21]\n",
    "conns=np.array(conns).reshape(-1,2)-1\n",
    "left=range(0,16)\n",
    "middle=range(16,21)\n",
    "right=range(21,37)"
   ]
  },
  {
   "cell_type": "code",
   "execution_count": 4,
   "metadata": {},
   "outputs": [
    {
     "data": {
      "text/plain": [
       "0.0066113929572275115"
      ]
     },
     "execution_count": 4,
     "metadata": {},
     "output_type": "execute_result"
    }
   ],
   "source": [
    "#diamond8 n=1 type8 gap\n",
    "0.013110607533510179*(1-12*0.0413101538815735)"
   ]
  },
  {
   "cell_type": "code",
   "execution_count": 5,
   "metadata": {},
   "outputs": [],
   "source": [
    "# diamond8 single patch\n",
    "\n",
    "spins=[2,2,2,4,2, 2,2,2,4,2, 2,2,2,4,2, 4, 2,2,2,4,2]\n",
    "conns=[16,5,16,10,16,15,16,17, 1,4,2,4,3,4,4,5, 6,9,7,9,8,9,9,10, 11,14,12,14,13,14,14,15, 17,20,18,20,19,20,21,20]\n",
    "conns=np.array(conns).reshape(-1,2)-1\n",
    "centeredConnNum=4\n",
    "etas=[0.0413101538815735]\n",
    "etaDegrees=[12]"
   ]
  },
  {
   "cell_type": "code",
   "execution_count": 4,
   "metadata": {},
   "outputs": [],
   "source": [
    "#honeycomb n=2 single patch\n",
    "# 0.23990787372290434 -> bound=0.1547373277670751\n",
    "\n",
    "spins=[3,2,2,2,2,2,2]\n",
    "conns=[1,2,1,3,1,4,2,5,3,6,4,7]\n",
    "conns=np.array(conns).reshape(-1,2)-1\n",
    "centeredConnNum=3\n",
    "etas=[0.11833785004516906]\n",
    "etaDegrees=[3]"
   ]
  },
  {
   "cell_type": "code",
   "execution_count": null,
   "metadata": {},
   "outputs": [],
   "source": [
    "#honeycomb n=1 single patch\n",
    "# tol=0.0001 eta=0.8 UP=3\n",
    "# 800it [28:57,  2.17s/it]\n",
    "# 6.633507505117871 vs 6.6000000000000005 tol 0.0001 \n",
    "# eigs 0.02152114003412975 0.7784788599658703\n",
    "spins=[3,3,3,3,3,3, 3,3,3,3,3,3]\n",
    "conns=[1,2,2,3,3,4,4,5,5,6,6,1, 7,8,8,9,9,10,10,11,11,12,12,7, 6,7]\n",
    "conns=np.array(conns).reshape(-1,2)-1\n",
    "left=set(range(0,6))\n",
    "right=set(range(6,12))\n",
    "\n"
   ]
  },
  {
   "cell_type": "code",
   "execution_count": null,
   "metadata": {},
   "outputs": [],
   "source": [
    "# diamond8 n=1 single patch sub patch overlap\n",
    "# eta=0.4 tol=0 -> 2.800000000000004 < 2.8 == False (should be true)\n",
    "# eta=0.1 tol=0 -> 2.303179522497706 < 2.2 == False 121it [00:39,  3.07it/s]\n",
    "# -0.23484848484848764 -0.8651515151515125\n",
    "#virt dim 1280*1280\n",
    "spins=[2,2,2,4,2,4,2,4,2,2,2]\n",
    "conns=[1,4,2,4,3,4,4,5,5,6,6,7,7,8,8,9,8,10,8,11]\n",
    "conns=np.array(conns).reshape(-1,2)-1\n",
    "left=set(range(0,5))\n",
    "middle=set(range(5,6))\n",
    "right=set(range(6,11))"
   ]
  },
  {
   "cell_type": "code",
   "execution_count": null,
   "metadata": {},
   "outputs": [],
   "source": [
    "# diamond8 sub patch\n",
    "#0.04437436395957417\n",
    "#phy dim 2025*2025\n",
    "spins=[2,2,2,4,2,4]\n",
    "conns=[1,4,2,4,3,4,4,5,5,6]\n",
    "conns=np.array(conns).reshape(-1,2)-1\n",
    "weights=[.25,.25,.25,.25,1]"
   ]
  },
  {
   "cell_type": "code",
   "execution_count": 2,
   "metadata": {},
   "outputs": [
    {
     "data": {
      "text/plain": [
       "0.013110607533510179"
      ]
     },
     "execution_count": 2,
     "metadata": {},
     "output_type": "execute_result"
    }
   ],
   "source": [
    "# diamond8 single patch gap\n",
    "0.04437436395957417*(1-3*0.23484848484848764)"
   ]
  },
  {
   "cell_type": "code",
   "execution_count": null,
   "metadata": {},
   "outputs": [],
   "source": []
  },
  {
   "cell_type": "code",
   "execution_count": null,
   "metadata": {},
   "outputs": [],
   "source": []
  },
  {
   "cell_type": "code",
   "execution_count": null,
   "metadata": {},
   "outputs": [],
   "source": []
  },
  {
   "cell_type": "code",
   "execution_count": null,
   "metadata": {},
   "outputs": [],
   "source": []
  },
  {
   "cell_type": "code",
   "execution_count": null,
   "metadata": {},
   "outputs": [],
   "source": []
  },
  {
   "cell_type": "code",
   "execution_count": null,
   "metadata": {},
   "outputs": [],
   "source": [
    "# kagome1\n",
    "#eta 0.1 tol 0.01 0.507241435965813 0.5927585640341871\n",
    "\n",
    "spins=[4,4,4,4,4,4,4,4,4,4,4,4,4,4,4]\n",
    "conns=[1,2,2,3,3,1, 4,5,5,6,6,4, 7,8,8,9,9,7, 10,11,11,12,12,10, 13,14,14,15,15,13, 1,8,3,4,6,7,7,15,9,10,12,13]\n",
    "conns=np.array(conns).reshape(-1,2)-1\n",
    "left=range(0,6)\n",
    "middle=range(6,9)\n",
    "right=range(9,15)\n"
   ]
  },
  {
   "cell_type": "code",
   "execution_count": null,
   "metadata": {},
   "outputs": [],
   "source": [
    "# kagome2\n",
    "# eta 0.1 tol 0.0001 0.17067791218162198\n",
    "spins=[4,4,4,4,4,4,4,4,4,4,4,4,4,4,4]\n",
    "conns=[1,2,2,3,3,1, 4,5,5,6,6,4, 7,8,8,9,9,7, 10,11,11,12,12,10, 13,14,14,15,15,13, 3,4,4,8,8,3, 9,11,11,13,13,9]\n",
    "conns=np.array(conns).reshape(-1,2)-1\n",
    "left=range(0,6)\n",
    "middle=range(6,9)\n",
    "right=range(9,15)"
   ]
  },
  {
   "cell_type": "code",
   "execution_count": null,
   "metadata": {},
   "outputs": [],
   "source": [
    "# kagome4-5\n",
    "spins=[4,4,4,4,4,4,4,4,4]\n",
    "conns=[1,2,2,3,3,1, 4,5,5,6,6,4, 7,8,8,9,9,7, 3,4,4,8]\n",
    "conns=np.array(conns).reshape(-1,2)-1\n",
    "left=range(0,3)\n",
    "middle=range(3,6)\n",
    "right=range(6,9)\n"
   ]
  }
 ],
 "metadata": {
  "kernelspec": {
   "display_name": "Python 3",
   "language": "python",
   "name": "python3"
  },
  "language_info": {
   "codemirror_mode": {
    "name": "ipython",
    "version": 3
   },
   "file_extension": ".py",
   "mimetype": "text/x-python",
   "name": "python",
   "nbconvert_exporter": "python",
   "pygments_lexer": "ipython3",
   "version": "3.7.4"
  }
 },
 "nbformat": 4,
 "nbformat_minor": 2
}
