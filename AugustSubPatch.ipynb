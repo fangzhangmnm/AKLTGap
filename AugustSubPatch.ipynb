{
 "cells": [
  {
   "cell_type": "code",
   "execution_count": 4,
   "metadata": {},
   "outputs": [],
   "source": [
    "import os\n",
    "os.environ[\"OMP_NUM_THREADS\"]='16'\n",
    "import numpy as np\n",
    "from scipy import linalg\n",
    "from functools import reduce\n",
    "np.set_printoptions(precision=2)\n",
    "import matplotlib.pyplot as plt\n",
    "import tensornetwork as tn\n",
    "import time,math,gc,itertools\n",
    "from scipy.sparse.linalg import LinearOperator\n",
    "from scipy.sparse.linalg import eigsh\n",
    "from scipy.sparse.linalg import svds\n",
    "from colorsys import hls_to_rgb\n",
    "from tqdm import tqdm\n",
    "import opt_einsum\n",
    "import sys\n",
    "def show(z):\n",
    "    if len(z.shape)==1:\n",
    "        z=z.reshape((1,z.shape[0]))\n",
    "    r,arg = np.abs(z),np.angle(z)\n",
    "    h,s = (arg + np.pi)  / (2 * np.pi) + 0.5,0.8\n",
    "    l=r**(1/2.2) #gamma correction\n",
    "    l=l/(2*np.max(l))\n",
    "    c = np.array(np.vectorize(hls_to_rgb) (h,l,s)).swapaxes(0,2).swapaxes(0,1)\n",
    "    plt.imshow(c)\n",
    "    plt.show()\n",
    "def tensorDotAndReplace(tensor1, tensor2, axes1, axes2, replacedAxes):\n",
    "    assert len(axes1)==len(replacedAxes) and len(axes2)==len(replacedAxes)\n",
    "    first=np.delete(np.arange(tensor1.ndim),axes1)\n",
    "    second=np.delete(np.arange(tensor2.ndim),axes2)\n",
    "    k=tensor1.ndim\n",
    "    for i in range(len(second)):\n",
    "        flag=False\n",
    "        for j in range(len(replacedAxes)):\n",
    "            if second[i]==replacedAxes[j]:\n",
    "                second[i]=axes1[j]\n",
    "                flag=True\n",
    "                break\n",
    "        if not flag:\n",
    "            second[i]=k\n",
    "            k+=1\n",
    "    rtval=np.tensordot(tensor1,tensor2,(axes1,axes2))\n",
    "    rtval=rtval.transpose(np.argsort(np.concatenate((first,second))))\n",
    "    #print(np.arange(tensor1.ndim), np.arange(tensor2.ndim), axes1, axes2, replacedAxes)\n",
    "    #print(np.concatenate((first,second)))\n",
    "    #print(np.argsort(np.concatenate((first,second))))\n",
    "    return rtval\n",
    "MEMORY_LIMIT=30*1024*1024*1024"
   ]
  },
  {
   "cell_type": "code",
   "execution_count": 5,
   "metadata": {},
   "outputs": [],
   "source": [
    "import threading,time,datetime\n",
    "import io,sys\n",
    "from tqdm import tqdm\n",
    "from IPython.display import clear_output\n",
    "\n",
    "class BackgroundRunning:\n",
    "    def __init__(self, job):\n",
    "        self.result=None\n",
    "        self.display=io.StringIO()\n",
    "        self.job=job\n",
    "    def start(self):\n",
    "        self.start_time=time.time()\n",
    "        def run_thread():\n",
    "            self.result=job(self.display)\n",
    "        self.thread=threading.Thread(target=run_thread,args=())\n",
    "        self.thread.start()\n",
    "                \n",
    "    def showStatus(self):\n",
    "        def sec2str(sec):\n",
    "            return str(datetime.timedelta(seconds=int(sec)))\n",
    "        \n",
    "        clear_output(wait=True)\n",
    "        elapsed_time=time.time()-self.start_time\n",
    "        s='[{}]'.format(sec2str(elapsed_time))\n",
    "        print(s)\n",
    "        s=self.display.getvalue()\n",
    "        x=s.rfind('\\r')\n",
    "        if x!=-1:\n",
    "            s=s[x+1:]\n",
    "        print(s)\n",
    "        if self.is_done():\n",
    "            print('done')\n",
    "    def monitor(self,duration=10):\n",
    "        for i in range(duration*4):\n",
    "            self.showStatus()\n",
    "            if self.is_done():\n",
    "                return\n",
    "            time.sleep(.25)\n",
    "        print('to be continue...')\n",
    "    def is_done(self):\n",
    "        return not self.thread.is_alive()"
   ]
  },
  {
   "cell_type": "code",
   "execution_count": 6,
   "metadata": {},
   "outputs": [],
   "source": [
    "def getCG(n):\n",
    "    if n==0:\n",
    "        return np.array([1])\n",
    "    CG=np.zeros((n+1,)+(2,)*n)\n",
    "    for i in range(2**n):\n",
    "        indices=tuple(map(int,bin(i)[2:].zfill(n)))\n",
    "        m=np.sum(indices)\n",
    "        CG[(m,)+indices]=1\n",
    "    CG=np.array(list(map(lambda x:x/linalg.norm(x),CG.reshape(n+1,-1)))).reshape(CG.shape)\n",
    "    return CG\n",
    "assert getCG(3).shape==(4,2,2,2)\n",
    "CGs=[getCG(i) for i in range(9)]\n",
    "singlet = np.array([[0,1],[-1,0]])\n",
    "assert (singlet.dot(singlet)==-np.eye(2)).all()\n",
    "assert (singlet==-singlet.T).all()\n",
    "def getEdgeProjectorTensor(spin1,spin2):\n",
    "    t1,t2,t3=CGs[spin1],CGs[spin2],CGs[spin1+spin2]\n",
    "    t3=np.tensordot(t3,t1,([*range(1,spin1+1)],[*range(1,spin1+1)]))\n",
    "    t3=np.tensordot(t3,t2,([*range(1,spin2+1)],[*range(1,spin2+1)]))\n",
    "    return np.tensordot(t3,t3,(0,0))\n",
    "edgeProjectorTensors=[[getEdgeProjectorTensor(i,j)for j in range(5)]for i in range(5)]"
   ]
  },
  {
   "cell_type": "code",
   "execution_count": 7,
   "metadata": {},
   "outputs": [],
   "source": [
    "def contract_physical_edges(physical_edges1,physical_edges2):\n",
    "    \"\"\"\n",
    "    Parameters\n",
    "    ----------\n",
    "    edges1,edges2:map vertice_id->edge\n",
    "    \"\"\"\n",
    "    for k in physical_edges1:\n",
    "        if k in physical_edges2:\n",
    "            physical_edges1[k]^physical_edges2[k]\n",
    "def contract_disconnected_tensor_network(nodes,edges):\n",
    "    newNodes=[]\n",
    "    nodes=set(nodes)\n",
    "    while len(nodes)>0:\n",
    "        newSet=set(tn.reachable(next(iter(nodes))))\n",
    "        newEdges=list(filter(lambda x:x.get_nodes()[0] in newSet or x.get_nodes()[1] in newSet,edges))\n",
    "        #print(newSet,[[x.get_nodes()[0],x.get_nodes()[1]] for x in newEdges])\n",
    "        newNode=tn.contractors.auto(newSet,newEdges)\n",
    "        nodes=nodes.difference(newSet)\n",
    "        newNodes.append(newNode)\n",
    "    result=tn.outer_product_final_nodes(newNodes,edges)\n",
    "    return result "
   ]
  },
  {
   "cell_type": "code",
   "execution_count": 8,
   "metadata": {},
   "outputs": [],
   "source": [
    "assert sys.version_info>=(3,7) #will use dict ordering feature\n",
    "class AKLT_Tensor:\n",
    "    \"\"\"\n",
    "    Attributes\n",
    "    ----------\n",
    "    physical_edges:sorted dict vertice_id->edge\n",
    "    virtual_edges:sorted dict vertice_id->edge\n",
    "    nodes:sorted dict vertice_id->node or None after SVD\n",
    "    physical_dimension:int\n",
    "    virtual_dimension:int\n",
    "    \n",
    "    \"\"\"\n",
    "    def __init__(self,spins,conns,div):\n",
    "        \"\"\"\n",
    "        Parameters\n",
    "        ----------\n",
    "        spins:[2,2,2,2]\n",
    "            the spins for the vertices of the parent graph\n",
    "        conns:[[0,1],[1,2],[2,3]]\n",
    "            array of pair of vertice_ids for edges in the parent graph\n",
    "        div:[1,2]\n",
    "            the set of vertice_ids for vertices in the subgraph\n",
    "        \"\"\"        \n",
    "        self.nodes=dict()\n",
    "        self.physical_edges=dict()\n",
    "        self.virtual_edges=dict()\n",
    "        \n",
    "        curIndice=[1]*len(spins)\n",
    "        for vid in div:\n",
    "            self.nodes[vid]=tn.Node(CGs[spins[vid]])# shape: [n+1]+[2]*n\n",
    "        for vid1,vid2 in conns:\n",
    "            if vid1 in div and vid2 in div:\n",
    "                n1=self.nodes[vid1]\n",
    "                n2=tn.Node(singlet)\n",
    "                n3=self.nodes[vid2]\n",
    "\n",
    "                edges=n1.get_all_edges()\n",
    "                edges[curIndice[vid1]]=n2[1]\n",
    "                n1=tn.contract(n1[curIndice[vid1]]^n2[0]).reorder_edges(edges)\n",
    "                self.nodes[vid1]=n1\n",
    "\n",
    "                n1[curIndice[vid1]]^n3[curIndice[vid2]]\n",
    "                curIndice[vid1]+=1\n",
    "                curIndice[vid2]+=1\n",
    "        for vid in div:\n",
    "            n1=self.nodes[vid]\n",
    "            self.physical_edges[vid]=n1[0]\n",
    "            num=spins[vid]+1-curIndice[vid]\n",
    "            if num==0:\n",
    "                pass\n",
    "            elif num==1:\n",
    "                self.virtual_edges[vid]=n1[curIndice[vid]]\n",
    "            else:\n",
    "                n2=tn.Node(CGs[num].conj())\n",
    "                edges=n1.get_all_edges()[0:curIndice[vid]]+[n2[0]]\n",
    "                for i in range(num):\n",
    "                    n1[curIndice[vid]+i]^n2[1+i]\n",
    "                n1=tn.contract_between(n1,n2,output_edge_order=edges)\n",
    "                self.nodes[vid]=n1\n",
    "                self.virtual_edges[vid]=edges[-1]\n",
    "        \n",
    "        self.nodes=dict(sorted(self.nodes.items()))\n",
    "        self.physical_edges=dict(sorted(self.physical_edges.items()))\n",
    "        self.virtual_edges=dict(sorted(self.virtual_edges.items()))\n",
    "        \n",
    "        self.physical_dimensions=[e.dimension for e in self.physical_edges.values()]\n",
    "        self.virtual_dimensions=[e.dimension for e in self.virtual_edges.values()]\n",
    "        self.physical_dimension=np.prod(self.physical_dimensions)\n",
    "        self.virtual_dimension=np.prod(self.virtual_dimensions)\n",
    "        \n",
    "\n",
    "    \n",
    "    def print_dimensions(self):\n",
    "        print(\"node shapes:\",[(i,n.shape) for i,n in self.nodes.items()])\n",
    "        print(\"physical dimensions:\",self.physical_dimensions)\n",
    "        print(\"virtual dimensions:\",self.virtual_dimensions)\n",
    "        print(\"contracted size:\",self.physical_dimension,\"x\",self.virtual_dimension,\"=\",self.physical_dimension*self.virtual_dimension)\n",
    "    \n",
    "    def print_topology(self):\n",
    "        inm={n:i for i,n in self.nodes.items()}\n",
    "        toPrint=[]\n",
    "        for n in self.nodes.values():\n",
    "            for e in n.edges:\n",
    "                if e in self.physical_edges.values():\n",
    "                    assert e.node2 is None\n",
    "                    toPrint.append([inm[e.node1],'p',e.dimension])\n",
    "                elif e in self.virtual_edges.values():\n",
    "                    assert e.node2 is None\n",
    "                    toPrint.append([inm[e.node1],'v',e.dimension])\n",
    "                else:\n",
    "                    toPrint.append([e.node1 and inm[e.node1],e.node2 and inm[e.node2],e.dimension])\n",
    "        print(toPrint)\n",
    "    def copy(self):\n",
    "        node_dict,edge_dict=tn.copy(self.nodes.values())\n",
    "        rtval=object.__new__(self.__class__)\n",
    "        \n",
    "        rtval.nodes={k:node_dict[v] for k,v in self.nodes.items()}\n",
    "        rtval.physical_edges={k:edge_dict[v] for k,v in self.physical_edges.items()}\n",
    "        rtval.virtual_edges={k:edge_dict[v] for k,v in self.virtual_edges.items()}\n",
    "        rtval.physical_dimensions=self.physical_dimensions.copy()\n",
    "        rtval.virtual_dimensions=self.virtual_dimensions.copy()\n",
    "        rtval.physical_dimension=self.physical_dimension\n",
    "        rtval.virtual_dimension=self.virtual_dimension\n",
    "        \n",
    "        return rtval\n",
    "    def get_tensor(self):\n",
    "        t=self.copy()\n",
    "        return contract_disconnected_tensor_network(\n",
    "            list(t.nodes.values()),\n",
    "            list(t.physical_edges.values())+list(t.virtual_edges.values())\n",
    "        ).tensor\n"
   ]
  },
  {
   "cell_type": "code",
   "execution_count": 9,
   "metadata": {},
   "outputs": [
    {
     "name": "stdout",
     "output_type": "stream",
     "text": [
      "begin SVD for  8  x  8\n",
      "maxmin singular values:  1.1180339887498951 0.8660254037844386  total  8\n",
      "start validate\n",
      "validate passed\n"
     ]
    }
   ],
   "source": [
    "class AKLT_Physical_Basis:\n",
    "    def __init__(self,spins,conns,div,validate=True):\n",
    "        \"\"\"\n",
    "        Parameters\n",
    "        ----------\n",
    "        spins:[2,2,2,2]\n",
    "            the spins for the vertices of the parent graph\n",
    "        conns:[[0,1],[1,2],[2,3]]\n",
    "            array of pair of vertice_ids for edges in the parent graph\n",
    "        div:[1,2]\n",
    "            the set of vertice_ids for vertices in the subgraph\n",
    "        \"\"\"\n",
    "        tensor=AKLT_Tensor(spins,conns,div)\n",
    "        # assert tn.check_correct(tensor.nodes.values())==None wrong for non-connected graph\n",
    "\n",
    "        \n",
    "        t1,t2=tensor.copy(),tensor.copy()\n",
    "        contract_physical_edges(t1.physical_edges,t2.physical_edges)\n",
    "        mm=contract_disconnected_tensor_network(\n",
    "            list(t1.nodes.values())+list(t2.nodes.values()),\n",
    "            list(t1.virtual_edges.values())+list(t2.virtual_edges.values())\n",
    "        ).tensor\n",
    "        \n",
    "        print(\"begin SVD for \",tensor.virtual_dimension,\" x \",tensor.virtual_dimension)\n",
    "        s2,v=linalg.eigh(mm.reshape((tensor.virtual_dimension,tensor.virtual_dimension)))\n",
    "        s=np.sqrt(s2)\n",
    "        vh=v.conj().T\n",
    "        assert np.allclose(v@vh,np.eye(v.shape[0]))\n",
    "        assert np.allclose(vh@v,np.eye(vh.shape[0]))\n",
    "        print(\"maxmin singular values: \",max(s),min(s),\" total \",len(s))\n",
    "        \n",
    "        #new_tensor=v@np.diag(1/s)\n",
    "        new_tensor=v@np.diag(1/s)@vh\n",
    "        new_node=tn.Node(new_tensor.reshape(tensor.virtual_dimensions+[new_tensor.shape[1]]))\n",
    "        \n",
    "        for i,e in enumerate(tensor.virtual_edges.values()):\n",
    "            new_node[i]^e\n",
    "                \n",
    "        self.all_nodes=[new_node]+list(tensor.nodes.values())\n",
    "        self.physical_edges=tensor.physical_edges\n",
    "        self.virtual_edge=new_node[-1]\n",
    "        self.virtual_dimension=new_tensor.shape[1]\n",
    "        self.physical_dimensions=tensor.physical_dimensions.copy()\n",
    "        self.physical_dimension=tensor.physical_dimension\n",
    "        self.singular_values=s\n",
    "        self.v_tensor=v\n",
    "        \n",
    "        if validate:\n",
    "            print('start validate')\n",
    "            self.test_unitary()\n",
    "            self.test_idempotent()\n",
    "            print('validate passed')\n",
    "        \n",
    "    def print_dimensions(self):\n",
    "        print(\"node shapes:\",[n.shape for n in self.all_nodes])\n",
    "        print(\"physical dimensions:\",self.physical_dimensions)\n",
    "        print(\"virtual dimension:\",self.virtual_dimension)\n",
    "        print(\"contracted size:\",self.physical_dimension,\"x\",self.virtual_dimension,\"=\",self.physical_dimension*self.virtual_dimension)\n",
    "    \n",
    "    def copy(self):\n",
    "        node_dict,edge_dict=tn.copy(self.all_nodes)\n",
    "        rtval=object.__new__(self.__class__)\n",
    "        \n",
    "        rtval.all_nodes=[node_dict[v] for v in self.all_nodes]\n",
    "        rtval.physical_edges={k:edge_dict[v] for k,v in self.physical_edges.items()}\n",
    "        rtval.virtual_dimension=self.virtual_dimension\n",
    "        rtval.virtual_edge=edge_dict[self.virtual_edge]\n",
    "        rtval.physical_dimensions=self.physical_dimensions.copy()\n",
    "        rtval.physical_dimension=self.physical_dimension\n",
    "        rtval.singular_values=self.singular_values.copy()\n",
    "        rtval.v_tensor=self.v_tensor.copy()\n",
    "        \n",
    "        return rtval\n",
    "    def get_tensor(self):\n",
    "        t=self.copy()\n",
    "        return contract_disconnected_tensor_network(\n",
    "            t.all_nodes,\n",
    "            list(t.physical_edges.values())+[t.virtual_edge]\n",
    "        ).tensor\n",
    "    \n",
    "    def test_unitary(self):\n",
    "        a,b=self.copy(),self.copy()\n",
    "        contract_physical_edges(a.physical_edges,b.physical_edges)\n",
    "        t=contract_disconnected_tensor_network(\n",
    "            a.all_nodes+b.all_nodes,\n",
    "            [a.virtual_edge,b.virtual_edge]\n",
    "        ).tensor\n",
    "        assert np.allclose(t,np.eye(self.virtual_dimension))\n",
    "    def test_idempotent(self):\n",
    "        def E(v):\n",
    "            n0=tn.Node(v.reshape(self.physical_dimensions))\n",
    "            n0_physical_edges={k:n0[i] for i,k in enumerate(self.physical_edges)}\n",
    "            a,b=self.copy(),self.copy()\n",
    "            contract_physical_edges(n0_physical_edges,a.physical_edges)\n",
    "            a.virtual_edge^b.virtual_edge\n",
    "            nodes=a.all_nodes+b.all_nodes+[n0]\n",
    "            edges=list(b.physical_edges.values())\n",
    "            n1=contract_disconnected_tensor_network(nodes,edges)\n",
    "            return n1.tensor.flatten()\n",
    "        v=np.random.random(self.physical_dimension)\n",
    "        assert np.allclose(E(v),E(E(v)))\n",
    "        \n",
    "a=AKLT_Physical_Basis([4,2],[[0,1]],[0,1])\n",
    "b=AKLT_Tensor([4,2],[[0,1]],[0,1])\n",
    "pd=a.physical_dimension\n",
    "vd=a.virtual_dimension\n",
    "ua=a.get_tensor().reshape(pd,-1)@a.v_tensor\n",
    "sa=np.diag(a.singular_values)\n",
    "va=a.v_tensor\n",
    "tb=b.get_tensor().reshape(pd,-1)\n",
    "assert np.allclose(ua@sa@va.T,tb)\n",
    "assert np.allclose(va.T@va,np.eye(vd))\n",
    "assert np.allclose(va@va.T,np.eye(vd))\n",
    "assert np.allclose(ua.T@ua,np.eye(vd))\n",
    "assert np.allclose(ua@ua.T,ua@ua.T@ua@ua.T)\n",
    "\n",
    "a.test_unitary()\n",
    "a.test_idempotent()\n"
   ]
  },
  {
   "cell_type": "code",
   "execution_count": 10,
   "metadata": {},
   "outputs": [],
   "source": [
    "# decorated diamond subsubpatch\n",
    "# 216it [00:07, 27.94it/s] tol 0 gap 0.17064623273929694\n",
    "spins=[2,2,2,2,4]\n",
    "conns=[1,5,2,5,3,5,4,5]\n",
    "conns=np.array(conns).reshape(-1,2)-1\n",
    "weights=[1,1,1,1]"
   ]
  },
  {
   "cell_type": "code",
   "execution_count": 17,
   "metadata": {},
   "outputs": [],
   "source": [
    "# decorated diamond subsubpatch 1/4\n",
    "# 231it [00:09, 24.98it/s] tol 0 gap 0.04266155818482387\n",
    "spins=[2,2,2,2,4]\n",
    "conns=[1,5,2,5,3,5,4,5]\n",
    "conns=np.array(conns).reshape(-1,2)-1\n",
    "weights=[.25,.25,.25,.25]"
   ]
  },
  {
   "cell_type": "code",
   "execution_count": 12,
   "metadata": {},
   "outputs": [
    {
     "data": {
      "text/plain": [
       "0.17064623273929547"
      ]
     },
     "execution_count": 12,
     "metadata": {},
     "output_type": "execute_result"
    }
   ],
   "source": [
    "0.04266155818482387*4"
   ]
  },
  {
   "cell_type": "code",
   "execution_count": 26,
   "metadata": {},
   "outputs": [],
   "source": [
    "# square4x4 projpart\n",
    "spins=[4,4,4,4,4,4,4,4,4]\n",
    "a=(-7+np.sqrt(118))/3\n",
    "conns=[1,2,2,3,1,4,4,7, 4,5,5,6,7,8,8,9,2,5,5,8,3,6,6,9]\n",
    "conns=np.array(conns).reshape(-1,2)-1\n",
    "weights=[1,1,1,1,a,a,a,a,a,a,a,a]"
   ]
  },
  {
   "cell_type": "code",
   "execution_count": 27,
   "metadata": {},
   "outputs": [
    {
     "name": "stdout",
     "output_type": "stream",
     "text": [
      "dimP 1953125\n"
     ]
    }
   ],
   "source": [
    "dimP=np.prod(np.array(spins)+1)\n",
    "print('dimP',dimP)\n",
    "\n",
    "def AKLT_Hamiltonian(v):\n",
    "    u=np.zeros(v.shape)\n",
    "    v=np.reshape(v,np.array(spins)+1)\n",
    "    for ii,(i,j) in enumerate(conns):\n",
    "        p=edgeProjectorTensors[spins[i]][spins[j]]\n",
    "        w=tensorDotAndReplace(v,p,(i,j),(0,1),(2,3)).reshape(-1)\n",
    "        u+=w*weights[ii]\n",
    "    return u"
   ]
  },
  {
   "cell_type": "code",
   "execution_count": 28,
   "metadata": {},
   "outputs": [
    {
     "name": "stdout",
     "output_type": "stream",
     "text": [
      "begin SVD for  1296  x  1296\n",
      "maxmin singular values:  1.8625545224084419 0.36153923706730756  total  1296\n",
      "start validate\n",
      "validate passed\n"
     ]
    }
   ],
   "source": [
    "memory_limit=30*1024*1024*1024\n",
    "\n",
    "patch=AKLT_Physical_Basis(spins,conns,range(len(spins)))\n",
    "\n",
    "def AKLT_Ground_Projector(v):\n",
    "    n0=tn.Node(v.reshape(patch.physical_dimensions))\n",
    "    n0_edges={i:n0[i] for i in range(len(patch.physical_dimensions))}\n",
    "    n1=patch.copy()\n",
    "    n2=patch.copy()\n",
    "    contract_physical_edges(n0_edges,n1.physical_edges)\n",
    "    n1.virtual_edge^n2.virtual_edge\n",
    "    nodes=[n0]+n1.all_nodes+n2.all_nodes\n",
    "    edges=[n2.physical_edges[i] for i in range(len(patch.physical_dimensions))]\n",
    "    n3=tn.contractors.auto(nodes,edges,memory_limit=memory_limit)\n",
    "    return n3.tensor.reshape(-1)\n",
    "\n",
    "v=np.ones(dimP)\n",
    "v/=np.linalg.norm(v)\n",
    "\n",
    "v1=AKLT_Ground_Projector(v)\n",
    "v2=AKLT_Ground_Projector(v1)\n",
    "assert not np.isclose(np.linalg.norm(v1),0)\n",
    "assert np.allclose(v1,v2)\n",
    "v3=v1/np.linalg.norm(v1)\n",
    "v4=AKLT_Hamiltonian(v3)\n",
    "assert np.isclose(np.linalg.norm(v4),0)"
   ]
  },
  {
   "cell_type": "code",
   "execution_count": null,
   "metadata": {},
   "outputs": [],
   "source": []
  },
  {
   "cell_type": "code",
   "execution_count": 29,
   "metadata": {},
   "outputs": [],
   "source": [
    "tol=0\n",
    "\n",
    "\n",
    "def job(file):\n",
    "    pbar=tqdm(file=file)\n",
    "    def OP(v):\n",
    "        pbar.update(1)\n",
    "        v=AKLT_Hamiltonian(v)+np.sum(weights)*AKLT_Ground_Projector(v)\n",
    "        gc.collect(2)\n",
    "        return v\n",
    "    op=LinearOperator(shape=(dimP,dimP),matvec=OP)\n",
    "    eigenvalues, eigenvectors = eigsh(op, k=1,tol=tol,which='SA')\n",
    "    pbar.close()\n",
    "    return eigenvalues,eigenvectors\n",
    "\n",
    "bg=BackgroundRunning(job)\n",
    "bg.start()\n"
   ]
  },
  {
   "cell_type": "code",
   "execution_count": null,
   "metadata": {},
   "outputs": [
    {
     "name": "stdout",
     "output_type": "stream",
     "text": [
      "[0:29:56]\n",
      "4176it [29:56,  2.47it/s]\n"
     ]
    }
   ],
   "source": [
    "\n",
    "bg.monitor()\n",
    "if(bg.is_done()):\n",
    "    eigenvalues, eigenvectors=bg.result\n",
    "    print('tol',tol,'gap',eigenvalues[0])"
   ]
  },
  {
   "cell_type": "code",
   "execution_count": 15,
   "metadata": {},
   "outputs": [],
   "source": [
    "bg.result"
   ]
  },
  {
   "cell_type": "code",
   "execution_count": null,
   "metadata": {},
   "outputs": [],
   "source": []
  },
  {
   "cell_type": "code",
   "execution_count": null,
   "metadata": {},
   "outputs": [],
   "source": []
  },
  {
   "cell_type": "code",
   "execution_count": 40,
   "metadata": {},
   "outputs": [
    {
     "name": "stdout",
     "output_type": "stream",
     "text": [
      "1.0000000000000024\n",
      "1.0083483624418097e-15\n",
      "1.0000000000000024\n",
      "1.174400491344792e-15\n"
     ]
    }
   ],
   "source": [
    "v=eigenvectors[:,0]\n",
    "print(np.linalg.norm(v))\n",
    "print(np.linalg.norm(AKLT_Hamiltonian(v)))\n",
    "print(np.linalg.norm(AKLT_Ground_Projector(v)))\n",
    "print(np.linalg.norm(v-AKLT_Ground_Projector(v)))"
   ]
  },
  {
   "cell_type": "code",
   "execution_count": null,
   "metadata": {},
   "outputs": [],
   "source": []
  },
  {
   "cell_type": "code",
   "execution_count": null,
   "metadata": {},
   "outputs": [],
   "source": []
  },
  {
   "cell_type": "code",
   "execution_count": null,
   "metadata": {},
   "outputs": [],
   "source": [
    "assert False"
   ]
  },
  {
   "cell_type": "code",
   "execution_count": 25,
   "metadata": {},
   "outputs": [
    {
     "name": "stderr",
     "output_type": "stream",
     "text": [
      "1193it [00:35, 33.78it/s]"
     ]
    },
    {
     "name": "stdout",
     "output_type": "stream",
     "text": [
      "[-3.   -3.   -3.   -3.   -3.   -3.   -3.   -3.   -2.89 -2.89 -2.89 -2.89\n",
      " -2.89 -2.89 -2.89 -2.89]\n"
     ]
    },
    {
     "name": "stderr",
     "output_type": "stream",
     "text": [
      "\n"
     ]
    }
   ],
   "source": [
    "# old method\n",
    "tol=0\n",
    "num_of_eigen=16\n",
    "\n",
    "pbar=tqdm()\n",
    "def H(v):\n",
    "    u=np.zeros(v.shape)\n",
    "    v=np.reshape(v,np.array(spins)+1)\n",
    "    for ii,(i,j) in enumerate(conns):\n",
    "        p=edgeProjectorTensors[spins[i]][spins[j]]\n",
    "        w=tensorDotAndReplace(v,p,(i,j),(0,1),(2,3)).reshape(-1)\n",
    "        u+=w*weights[ii]\n",
    "    pbar.update(1)\n",
    "    return u\n",
    "def OP(v):\n",
    "    gc.collect(2)\n",
    "    return H(v)-np.sum(weights)*v\n",
    "    \n",
    "dimP=np.prod(np.array(spins)+1)\n",
    "op=LinearOperator(shape=(dimP,dimP),matvec=OP)\n",
    "eigenvalues, eigenvectors = eigsh(op, k=num_of_eigen,tol=tol)\n",
    "pbar.close()\n",
    "print(eigenvalues)"
   ]
  },
  {
   "cell_type": "code",
   "execution_count": 27,
   "metadata": {},
   "outputs": [
    {
     "name": "stdout",
     "output_type": "stream",
     "text": [
      "0.10808611471802587\n"
     ]
    }
   ],
   "source": [
    "print(eigenvalues[8]-eigenvalues[7])"
   ]
  },
  {
   "cell_type": "code",
   "execution_count": null,
   "metadata": {},
   "outputs": [],
   "source": []
  }
 ],
 "metadata": {
  "kernelspec": {
   "display_name": "Python 3",
   "language": "python",
   "name": "python3"
  },
  "language_info": {
   "codemirror_mode": {
    "name": "ipython",
    "version": 3
   },
   "file_extension": ".py",
   "mimetype": "text/x-python",
   "name": "python",
   "nbconvert_exporter": "python",
   "pygments_lexer": "ipython3",
   "version": "3.7.4"
  }
 },
 "nbformat": 4,
 "nbformat_minor": 2
}
