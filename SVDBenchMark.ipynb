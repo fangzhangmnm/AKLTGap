{
 "cells": [
  {
   "cell_type": "code",
   "execution_count": 1,
   "id": "20dea4a0",
   "metadata": {},
   "outputs": [],
   "source": [
    "import time\n",
    "import numpy as np\n",
    "import matplotlib.pyplot as plt\n",
    "import torch\n",
    "import jax\n",
    "torch.set_default_tensor_type(torch.cuda.FloatTensor)\n",
    "torch.cuda.set_device(0)"
   ]
  },
  {
   "cell_type": "code",
   "execution_count": 6,
   "id": "70d65722",
   "metadata": {},
   "outputs": [],
   "source": [
    "def test_svd_speed(size):\n",
    "    A=np.random.random([size,size]).astype(np.float32)\n",
    "    A=A@A.T\n",
    "    start_time = time.time()\n",
    "    #s,v=np.linalg.eigh(A)\n",
    "    s,v=torch.linalg.eigh(torch.tensor(A))\n",
    "    #s,v=jax.numpy.linalg.eigh(A)\n",
    "    used_time=time.time()-start_time\n",
    "    print(size,used_time)\n",
    "    return used_time"
   ]
  },
  {
   "cell_type": "code",
   "execution_count": 7,
   "id": "58867554",
   "metadata": {},
   "outputs": [
    {
     "name": "stdout",
     "output_type": "stream",
     "text": [
      "200 0.07332706451416016\n",
      "500 0.11106061935424805\n",
      "1000 0.4545753002166748\n",
      "2000 1.5331096649169922\n",
      "3000 3.5523085594177246\n",
      "4000 8.071555614471436\n",
      "5000 15.135824203491211\n",
      "6000 22.770400285720825\n"
     ]
    }
   ],
   "source": [
    "dtsize=[200,500,1000,2000,3000,4000,5000,6000]\n",
    "dttime=list(map(test_svd_speed,dtsize))"
   ]
  },
  {
   "cell_type": "code",
   "execution_count": 8,
   "id": "b3e969cc",
   "metadata": {},
   "outputs": [
    {
     "name": "stdout",
     "output_type": "stream",
     "text": [
      "7.299243997731531e-09 * size** 2.5123589141529026\n",
      "200 0.004408502615060041\n",
      "500 0.04406149522509513\n",
      "1000 0.251393835409191\n",
      "2000 1.4343330874016427\n",
      "5000 14.335674944559994\n",
      "10000 81.79251042392644\n",
      "20000 466.6689770324905\n",
      "50000 4664.198867201322\n",
      "100000 26611.68978371666\n",
      "104976 30064.788495924342\n"
     ]
    }
   ],
   "source": [
    "s=3\n",
    "p=np.polyfit(np.log(dtsize[s:]),np.log(dttime[s:]),deg=1)\n",
    "print(np.exp(p[1]),'*','size**',p[0])\n",
    "\n",
    "dtsize1=[200,500,1000,2000,5000,10000,20000,50000,100000,104976]\n",
    "dtfit1=np.exp(p[1])*dtsize1**p[0]\n",
    "for i,j in zip(dtsize1,dtfit1):\n",
    "    print(i,j)"
   ]
  },
  {
   "cell_type": "code",
   "execution_count": 9,
   "id": "c0deb13b",
   "metadata": {},
   "outputs": [],
   "source": [
    "#pytorch 6000=5.125s 100000=?1292s float64\n",
    "#jax.numpy 6000=41.05s 100000=?41326s\n",
    "#numpy 6000=22.77s 11664=148s 20736=603s 100000?=26611s\n",
    "#pytorch float32 20000=9833MB, 75s"
   ]
  },
  {
   "cell_type": "code",
   "execution_count": 10,
   "id": "7f18152c",
   "metadata": {},
   "outputs": [
    {
     "data": {
      "image/png": "[encoded data removed]",
      "text/plain": [
       "<Figure size 432x288 with 1 Axes>"
      ]
     },
     "metadata": {
      "needs_background": "light"
     },
     "output_type": "display_data"
    }
   ],
   "source": [
    "plt.plot(dtsize,dttime,'.')\n",
    "plt.plot(dtsize1,dtfit1,'-')\n",
    "plt.xscale('log')\n",
    "plt.yscale('log')\n",
    "plt.show()"
   ]
  },
  {
   "cell_type": "code",
   "execution_count": null,
   "id": "a62ce4fc",
   "metadata": {},
   "outputs": [],
   "source": []
  }
 ],
 "metadata": {
  "kernelspec": {
   "display_name": "firstEnv",
   "language": "python",
   "name": "firstenv"
  },
  "language_info": {
   "codemirror_mode": {
    "name": "ipython",
    "version": 3
   },
   "file_extension": ".py",
   "mimetype": "text/x-python",
   "name": "python",
   "nbconvert_exporter": "python",
   "pygments_lexer": "ipython3",
   "version": "3.9.7"
  }
 },
 "nbformat": 4,
 "nbformat_minor": 5
}
