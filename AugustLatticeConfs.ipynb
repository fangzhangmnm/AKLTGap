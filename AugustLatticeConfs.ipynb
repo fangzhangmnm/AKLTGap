{
 "cells": [
  {
   "cell_type": "code",
   "execution_count": null,
   "metadata": {},
   "outputs": [],
   "source": [
    "# kagome n1 eta\n",
    "# 21it [3:03:46, 525.09s/it] \n",
    "# 0.1 eta 0.01 tol -0.5024866453261767\n",
    "spins=[4,4,4,4,4,4, 4,4,4, 4,4,4,4,4,4]\n",
    "conns1=[1,2,2,3,4,5,5,6,8,9,9,7,3,6,6,7,7,3]\n",
    "conns2=[7,8,8,9,10,11,11,12,13,14,14,15,9,12,12,15,15,9]\n",
    "connsL=np.array(conns1).reshape(-1,2)-1\n",
    "connsM=[]\n",
    "connsR=np.array(conns2).reshape(-1,2)-1\n",
    "connsLM=connsL\n",
    "connsMR=connsR\n",
    "left=range(0,6)\n",
    "middle=range(6,9)\n",
    "right=range(9,15)\n"
   ]
  },
  {
   "cell_type": "code",
   "execution_count": null,
   "metadata": {},
   "outputs": [],
   "source": [
    "# square circle type1 eta\n",
    "# 31it [01:17,  2.50s/it]\n",
    "# eta 0.1 tol 0.001 -0.22490577941346201\n",
    "spins=[4,4,4,4,4,4,4,4,4,4,4,4,4,4,4,4]\n",
    "conns=[1,4,4,7,2,5,5,7,3,6,6,7,7,8,8,4,4,5,5,6,6,8, 8,9, 10,13,13,16,11,14,14,16,12,15,15,16,16,9,9,13,13,14,14,15,15,9]\n",
    "connsL=np.array(conns).reshape(-1,2)-1\n",
    "connsM=connsL\n",
    "connsR=connsL\n",
    "connsLM=connsL\n",
    "connsMR=connsL\n",
    "left=range(0,7)\n",
    "middle=range(7,9)\n",
    "right=range(9,16)\n"
   ]
  },
  {
   "cell_type": "code",
   "execution_count": null,
   "metadata": {},
   "outputs": [],
   "source": [
    "# square three type1 eta\n",
    "# 21it [00:06,  3.37it/s]\n",
    "# eta 0.1 tol 0.001 -0.22981729977552634\n",
    "spins=[4,4,4,4,4,4,4,4,4,4,4,4,4,4,4,4]\n",
    "conns=[1,4,1,4,1,4,2,5,2,5,2,5,3,6,3,6,3,6,4,7,5,7,6,7,7,8, 8,9,8,9,8,9, 10,13,10,13,10,13,11,14,11,14,11,14,12,15,12,15,12,15,13,16,14,16,15,16,16,9]\n",
    "connsL=np.array(conns).reshape(-1,2)-1\n",
    "connsM=connsL\n",
    "connsR=connsL\n",
    "connsLM=connsL\n",
    "connsMR=connsL\n",
    "left=range(0,7)\n",
    "middle=range(7,9)\n",
    "right=range(9,16)"
   ]
  },
  {
   "cell_type": "code",
   "execution_count": 1,
   "metadata": {},
   "outputs": [],
   "source": [
    "# square 5p type1 eta\n",
    "spins=[4,4,4,4,4,4,4,4, 4,4,4,4,4,4,4,4, 4,4,4,4,4,4,4,4]\n",
    "conns=[1,2,2,3,3,4,4,1, 5,6,6,7,7,8,8,5, 4,9,13,8,8,4, \n",
    "      9,10,10,11,11,12,12,9, 13,14,14,15,15,16,16,13, 9,13,12,16,\n",
    "      17,18,18,19,19,20,20,17, 21,22,22,23,23,24,24,21,12,20,20,24,24,16]\n",
    "connsL=np.array(conns).reshape(-1,2)-1\n",
    "connsM=connsL\n",
    "connsR=connsL\n",
    "connsLM=connsL\n",
    "connsMR=connsL\n",
    "left=range(0,8)\n",
    "middle=range(8,16)\n",
    "right=range(16,24)"
   ]
  },
  {
   "cell_type": "code",
   "execution_count": null,
   "metadata": {},
   "outputs": [],
   "source": [
    "# HalfSquareDiamond eta\n",
    "# 21it [14:05, 40.26s/it]\n",
    "# eta0  0.1 tol  0.01 eta  0.202032557879317\n",
    "spins=[4]*21\n",
    "conns=[1,2,2,3,3,1, 4,5,5,6,6,4, 7,8,8,9,9,7, 3,4,4,10,10,3, 6,9,9,11,11,6,\n",
    "      10,11,11,12,12,10,\n",
    "      12,13,13,14,14,12, 13,16,16,17,17,13, 14,15,15,18,18,14, 15,16,16,19,19,15, 19,20,20,21,21,19]\n",
    "connsL=np.array(conns).reshape(-1,2)-1\n",
    "connsM=connsL\n",
    "connsR=connsL\n",
    "connsLM=connsL\n",
    "connsMR=connsL\n",
    "left=range(0,9)\n",
    "middle=range(9,12)\n",
    "right=range(12,21)"
   ]
  },
  {
   "cell_type": "code",
   "execution_count": null,
   "metadata": {},
   "outputs": [],
   "source": [
    "# HalfSquareCircle Type1 eta\n",
    "# 71it [32:32, 27.50s/it]\n",
    "# eta0  0.1 tol  0.0001 eta  0.12245082776390182\n",
    "spins=[4]*37\n",
    "def c(a,b,c,d,e):\n",
    "    return [a,b,b,c,c,d,d,a, a,e,b,e,c,e,d,e]\n",
    "conns=c(1,2,3,4,5)+c(6,7,8,9,10)+c(11,12,13,14,15)+[1,16,6,16,11,16,16,17]\n",
    "conns+=c(17,18,19,20,21)\n",
    "conns+=c(22,23,24,25,26)+c(27,28,29,30,31)+c(32,33,34,35,36)+[19,37,22,37,27,37,32,37]\n",
    "connsL=np.array(conns).reshape(-1,2)-1\n",
    "connsM=connsL\n",
    "connsR=connsL\n",
    "connsLM=connsL\n",
    "connsMR=connsL\n",
    "left=range(0,16)\n",
    "middle=range(16,21)\n",
    "right=range(21,37)"
   ]
  },
  {
   "cell_type": "code",
   "execution_count": null,
   "metadata": {},
   "outputs": [],
   "source": [
    "# HalfSquareCircle Type2 eta\n",
    "# 81it [17:15, 12.78s/it]\n",
    "# eta0  0.1 tol  0.0001 eta  0.1576371379958924\n",
    "spins=[4]*32\n",
    "def c(a,b,c,d,e):\n",
    "    return [a,b,b,c,c,d,d,a, a,e,b,e,c,e,d,e]\n",
    "conns=c(1,2,3,4,5)+c(6,7,8,9,10)+[1,11,6,11,12,11,17,11]\n",
    "conns+=c(12,13,14,15,16)+c(17,18,19,20,21)\n",
    "conns+=c(22,23,24,25,26)+c(27,28,29,30,31)+[13,32,18,32,22,32,27,32]\n",
    "connsL=np.array(conns).reshape(-1,2)-1\n",
    "connsM=connsL\n",
    "connsR=connsL\n",
    "connsLM=connsL\n",
    "connsMR=connsL\n",
    "left=range(0,11)\n",
    "middle=range(11,21)\n",
    "right=range(21,32)\n"
   ]
  },
  {
   "cell_type": "code",
   "execution_count": 2,
   "metadata": {},
   "outputs": [
    {
     "data": {
      "text/plain": [
       "1.0773354919761777"
      ]
     },
     "execution_count": 2,
     "metadata": {},
     "output_type": "execute_result"
    }
   ],
   "source": [
    "0.15212646129131602*4+0.11720741170272841*4"
   ]
  },
  {
   "cell_type": "code",
   "execution_count": null,
   "metadata": {},
   "outputs": [],
   "source": [
    "# decorated diamond sub patch gap\n",
    "# 0.170646\n",
    "# direct decomp: 0.17064623273928614\n",
    "# 91it [00:02, 42.72it/s]\n",
    "# eta0 0.3 UP 4 tol 0 eig 14.844147466147374 threshold 14.8\n",
    "#     gap 0.1706462327390041 ghostgap 0.1293537672609959\n",
    "# eta0 0.15 UP 4 tol 0 eig -15.400000000000011 threshold 15.4\n",
    "\n",
    "spins=[2,2,2,2,4]\n",
    "conns=[1,5,2,5,3,5,4,5]\n",
    "conns=np.array(conns).reshape(-1,2)-1\n",
    "weights=[1,1,1,1]"
   ]
  },
  {
   "cell_type": "code",
   "execution_count": null,
   "metadata": {},
   "outputs": [],
   "source": [
    "# decorated diamond subgraph proj gap???\n",
    "# 0.15830084\n",
    "# 261it [36:39,  8.43s/it]\n",
    "# eta0 0.3 UP 2.0 tol 0.0001 eig 3.444978654914206 threshold 3.4\n",
    "#    gap 0.15326688581022188 ghostgap 0.1467331141897781\n",
    "# 371it [50:09,  8.11s/it]\n",
    "# eta0 0.32 UP 2.0 tol 0.0001 eig 3.4111504999632434 threshold 3.36\n",
    "#     gap 0.16497493903261645 ghostgap 0.15502506096738355\n",
    "\n",
    "spins=[2,2,2,4, 2,2,2,4, 2,2,2,4, 2,2,2,4, 2,2,2,2,4]\n",
    "conns=[1,4,2,4,3,4,4,17, 5,8,6,8,7,8,8,18, \n",
    "       9,12,10,12,11,12,12,19, 13,16,14,16,15,16,16,20, \n",
    "      17,21,18,21,19,21,20,21]\n",
    "conns=np.array(conns).reshape(-1,2)-1\n",
    "weights=[.25,.25,.25,.25, .25,.25,.25,.25, \n",
    "         .25,.25,.25,.25, .25,.25,.25,.25, \n",
    "         1,1,1,1]\n",
    "proj_parts=[[1,2,3,4,17],[5,6,7,8,18],[9,10,11,12,19],[13,14,15,16,20],[17,18,19,20,21]]\n",
    "proj_weights=[.25,.25,.25,.25,1]\n",
    "iso_parts=[[1,2,3,4],[5,6,7,8],[9,10,11,12],[13,14,15,16],\n",
    "          [17],[18],[19],[20],[21]]\n",
    "proj_parts=[[i-1 for i in j]for j in proj_parts]\n",
    "iso_parts=[[i-1 for i in j]for j in iso_parts]\n",
    "\n"
   ]
  },
  {
   "cell_type": "code",
   "execution_count": null,
   "metadata": {},
   "outputs": [],
   "source": [
    "# honeycomb n=2 singlepatch\n",
    "# 0.10808611471802587 old method\n",
    "# gap 0.10808611471806184\n",
    "\n",
    "spins=[2,2,3,2,2,2,2]\n",
    "conns=[0,1,1,2,4,3,3,2,6,5,5,2]\n",
    "conns=np.array(conns).reshape(-1,2)\n",
    "weights=np.array([1.0,1,3,1,1,1,1])/3"
   ]
  },
  {
   "cell_type": "code",
   "execution_count": null,
   "metadata": {},
   "outputs": [],
   "source": [
    "# half square diamond patch WRONG\n",
    "# 41it tol 0.01 gap 0.07678704246424786WRONG [00:46,  1.12s/it]\n",
    "# tol 0 gap 0.07676028836627599WRONG 1421it [24:24,  1.03s/it]\n",
    "spins=[4]*12\n",
    "def tri(a,b,c):\n",
    "    return [a,b,b,c,c,a]\n",
    "conns=tri(1,2,3)+tri(3,4,5)+tri(4,6,8)+tri(5,7,9)+tri(8,9,10)+tri(10,11,12)\n",
    "conns=np.array(conns).reshape(-1,2)-1\n",
    "\n",
    "proj_parts=[[1,2,3,4,5],[3,4,5,6,7,8,9,10],[8,9,10,11,12]]\n",
    "proj_parts=[[i-1 for i in j]for j in proj_parts]\n",
    "proj_weights=[\n",
    "    0.07720721997366198,\n",
    "    0.08250809513682489,\n",
    "    0.07720721997366198]\n",
    "iso_parts=[[1,2],[3,4,5],[6,7],[8,9,10],[11,12]]\n",
    "iso_parts=[[i-1 for i in j]for j in iso_parts]\n",
    "all_parts=[i for j in iso_parts for i in j]"
   ]
  },
  {
   "cell_type": "code",
   "execution_count": null,
   "metadata": {},
   "outputs": [],
   "source": []
  },
  {
   "cell_type": "code",
   "execution_count": null,
   "metadata": {},
   "outputs": [],
   "source": [
    "#==============NewAugust=============="
   ]
  },
  {
   "cell_type": "code",
   "execution_count": null,
   "metadata": {},
   "outputs": [],
   "source": [
    "# Octagon Triangle Lattice eta\n",
    "# 31it [01:17,  2.50s/it]\n",
    "# eta 0.1 tol 0.001 -0.22490577941346201\n",
    "# 781it [30:09,  2.32s/it]\n",
    "# eta0  0.1 tol  0 eta  0.22524594476513526\n",
    "\n",
    "spins=[4,4,4,4,4,4,4,4,4,4,4,4,4,4,4,4]\n",
    "conns=[1,4,4,7,2,5,5,7,3,6,6,7,7,8,8,4,4,5,5,6,6,8, 8,9, 10,13,13,16,11,14,14,16,12,15,15,16,16,9,9,13,13,14,14,15,15,9]\n",
    "connsL=np.array(conns).reshape(-1,2)-1\n",
    "connsM=connsL\n",
    "connsR=connsL\n",
    "connsLM=connsL\n",
    "connsMR=connsL\n",
    "left=range(0,7)\n",
    "middle=range(7,9)\n",
    "right=range(9,16)"
   ]
  },
  {
   "cell_type": "code",
   "execution_count": null,
   "metadata": {},
   "outputs": [],
   "source": [
    "# Octagon Triangle Lattice patch\n",
    "# tol 0.01 gap 0.097677297548727 491it [02:48,  2.92it/s]\n",
    "# tol 0 gap 0.09764599552924126 19121it [1:38:23,  3.24it/s]\n",
    "spins=[4,4,4,4,4,4,4,4,4]\n",
    "conns=[1,4,2,5,3,6,8,9, 4,7,5,7,6,7,7,8,8,4,4,5,5,6,6,8]\n",
    "conns=np.array(conns).reshape(-1,2)-1\n",
    "weights=[.5,.5,.5,.5, 1,1,1,1,1,1,1,1]\n"
   ]
  },
  {
   "cell_type": "code",
   "execution_count": null,
   "metadata": {},
   "outputs": [],
   "source": [
    "# Inscribed Square Lattice eta\n",
    "# 21it [14:05, 40.26s/it]\n",
    "# eta0  0.1 tol  0.01 eta  0.202032557879317\n",
    "# 6321it [31:38:10, 18.02s/it]\n",
    "# eta0  0.1 tol  0 eta  0.2051774879967051\n",
    "spins=[4]*21\n",
    "conns=[1,2,2,3,3,1, 4,5,5,6,6,4, 7,8,8,9,9,7, 3,4,4,10,10,3, 6,9,9,11,11,6,\n",
    "      10,11,11,12,12,10,\n",
    "      12,13,13,14,14,12, 13,16,16,17,17,13, 14,15,15,18,18,14, 15,16,16,19,19,15, 19,20,20,21,21,19]\n",
    "connsL=np.array(conns).reshape(-1,2)-1\n",
    "connsM=connsL\n",
    "connsR=connsL\n",
    "connsLM=connsL\n",
    "connsMR=connsL\n",
    "left=range(0,9)\n",
    "middle=range(9,12)\n",
    "right=range(12,21)"
   ]
  },
  {
   "cell_type": "code",
   "execution_count": null,
   "metadata": {},
   "outputs": [],
   "source": [
    "# Inscribed Square Lattice subsubpatch 1\n",
    "# 371it [00:12, 29.81it/s] tol 0 gap 0.07720721997366198\n",
    "spins=[4,4,4,4,4]\n",
    "conns=[1,2,2,3,3,1,3,4,4,5,5,3]\n",
    "conns=np.array(conns).reshape(-1,2)-1\n",
    "weights=[.5,.5,.5,.5,.5,.5]"
   ]
  },
  {
   "cell_type": "code",
   "execution_count": null,
   "metadata": {},
   "outputs": [],
   "source": [
    "# Inscribed Square Lattice subsubpatch 2\n",
    "# 1691it [02:29, 11.29it/s] tol 0 gap 0.08250809513682489\n",
    "spins=[4,4,4,4,4,4,4,4]\n",
    "def tri(a,b,c):\n",
    "    return [a,b,b,c,c,a]\n",
    "conns=tri(1,2,8)+tri(4,5,6)+tri(2,3,4)+tri(6,7,8)\n",
    "conns=np.array(conns).reshape(-1,2)-1\n",
    "weights=[.5,.5,.5]*4"
   ]
  },
  {
   "cell_type": "code",
   "execution_count": null,
   "metadata": {},
   "outputs": [],
   "source": [
    "# Inscribed Square Lattice patch\n",
    "# 1561it [27:00,  1.04s/it] tol 0 gap 0.05811790647937676\n",
    "spins=[4]*12\n",
    "def tri(a,b,c):\n",
    "    return [a,b,b,c,c,a]\n",
    "conns=tri(1,2,3)+tri(3,4,5)+tri(4,6,8)+tri(5,7,9)+tri(8,9,10)+tri(10,11,12)\n",
    "conns=np.array(conns).reshape(-1,2)-1\n",
    "\n",
    "proj_parts=[[1,2,3,4,5],[3,4,5,6,7,8,9,10],[8,9,10,11,12]]\n",
    "proj_parts=[[i-1 for i in j]for j in proj_parts]\n",
    "proj_weights=[\n",
    "    0.07720721997366198,\n",
    "    0.08250809513682489,\n",
    "    0.07720721997366198]\n",
    "iso_parts=[[1,2],[3,4,5],[6,7],[8,9,10],[11,12]]\n",
    "iso_parts=[[i-1 for i in j]for j in iso_parts]\n",
    "all_parts=[i for j in iso_parts for i in j]"
   ]
  },
  {
   "cell_type": "code",
   "execution_count": null,
   "metadata": {},
   "outputs": [],
   "source": [
    "# diamond8 n=1 type8 x12\n",
    "# <0.06 0.01tol 2.1199999999999948 < 2.12 == True\n",
    "# <0.03 0.01tol 2.0700792853589918 < 2.06 == False\n",
    "# -0.04050477911678796 -0.9894952208832121\n",
    "# <0.03 0tol 2.0708429296843014 < 2.06 == False 1121it [17:45:08, 57.01s/it]\n",
    "# -0.0413101538815735 -0.9886898461184266\n",
    "# svd method: 0.04131015388150461 811it [8:45:54, 38.91s/it]\n",
    "\n",
    "#new\n",
    "# 21it [06:30, 18.60s/it] 2.2000000000000006 < 2.2 == False  -0.1000000000000007 -0.9999999999999993 eta0  0.1 tol  0.01 eta  0.1000000000000007\n",
    "# 981it [4:54:43, 18.03s/it] 2.07084292968422 < 2.06 == False eta0  0.03 tol  0 eta  0.04131015388148773\n",
    "\n",
    "spins=[2,2,2,4,2, 2,2,2,4,2, 2,2,2,4,2, 4, 2,2,2,4,2, 2,2,2,4,2, 2,2,2,4,2, 2,2,2,4,2, 4]\n",
    "conns=[1,4,2,4,3,4,4,5,5,16, 6,9,7,9,8,9,9,10,10,16, 11,14,12,14,13,14,14,15,15,16, 16,17, 17,20,18,20,19,20,21,20, 22,25,23,25,24,25,25,26,26,37, 27,30,28,30,29,30,30,31,31,37, 32,35,33,35,34,35,35,36,36,37, 37,21]\n",
    "connsL=np.array(conns).reshape(-1,2)-1\n",
    "connsM=connsL\n",
    "connsR=connsL\n",
    "connsLM=connsL\n",
    "connsMR=connsL\n",
    "left=range(0,16)\n",
    "middle=range(16,21)\n",
    "right=range(21,37)"
   ]
  },
  {
   "cell_type": "code",
   "execution_count": null,
   "metadata": {},
   "outputs": [],
   "source": [
    "# decorated diamond subsubpatch\n",
    "# 216it [00:07, 27.94it/s] tol 0 gap 0.17064623273929694\n",
    "# 1/4 is 0.042661558184824235\n",
    "spins=[2,2,2,2,4]\n",
    "conns=[1,5,2,5,3,5,4,5]\n",
    "conns=np.array(conns).reshape(-1,2)-1\n",
    "weights=[1,1,1,1]"
   ]
  },
  {
   "cell_type": "code",
   "execution_count": null,
   "metadata": {},
   "outputs": [],
   "source": [
    "# decorated diamond subgraph proj gap\n",
    "# 1451it [2:31:28,  6.26s/it] tol 0 gap 0.027013442238283496\n",
    "spins=[2,2,2,4, 2,2,2,4, 2,2,2,4, 2,2,2,4, 2,2,2,2,4]\n",
    "conns=[1,4,2,4,3,4,4,17, 5,8,6,8,7,8,8,18, \n",
    "       9,12,10,12,11,12,12,19, 13,16,14,16,15,16,16,20, \n",
    "      17,21,18,21,19,21,20,21]\n",
    "conns=np.array(conns).reshape(-1,2)-1\n",
    "proj_parts=[[1,2,3,4,17],[5,6,7,8,18],[9,10,11,12,19],[13,14,15,16,20],[17,18,19,20,21]]\n",
    "proj_parts=[[i-1 for i in j]for j in proj_parts]\n",
    "proj_weights=[0.042661558184824235,0.042661558184824235,0.042661558184824235,0.042661558184824235,0.17064623273929694]\n",
    "iso_parts=[[1,2,3,4],[5,6,7,8],[9,10,11,12],[13,14,15,16],\n",
    "          [17],[18],[19],[20],[21]]\n",
    "iso_parts=[[i-1 for i in j]for j in iso_parts]\n",
    "all_parts=[i for j in iso_parts for i in j]\n"
   ]
  },
  {
   "cell_type": "code",
   "execution_count": null,
   "metadata": {},
   "outputs": [],
   "source": [
    "# kagome\n",
    "# 21it [00:18,  1.13it/s] eta0  0.1 tol  0.01 eta  0.16673098088249844\n",
    "# 1151it [16:41,  1.15it/s] eta0  0.1 tol  0 eta  0.17067852082351342\n",
    "spins=[4,4,4,4,4,4, 4,4,4, 4,4,4,4,4,4]\n",
    "def tri(a,b,c):\n",
    "    return [a,b,b,c,c,a]\n",
    "conns=tri(1,2,3)+tri(3,4,8)+tri(4,5,6)+tri(7,8,9)+tri(9,11,13)+tri(10,11,12)+tri(13,14,15)\n",
    "connsL=np.array(conns).reshape(-1,2)-1\n",
    "connsM=connsL\n",
    "connsR=connsL\n",
    "connsLM=connsL\n",
    "connsMR=connsL\n",
    "left=range(0,6)\n",
    "middle=range(6,9)\n",
    "right=range(9,15)"
   ]
  },
  {
   "cell_type": "code",
   "execution_count": null,
   "metadata": {},
   "outputs": [],
   "source": [
    "# square H\n"
   ]
  },
  {
   "cell_type": "code",
   "execution_count": null,
   "metadata": {},
   "outputs": [],
   "source": []
  },
  {
   "cell_type": "code",
   "execution_count": null,
   "metadata": {},
   "outputs": [],
   "source": [
    "做得事情\n",
    "写清楚subgraph gap是怎么算的"
   ]
  }
 ],
 "metadata": {
  "kernelspec": {
   "display_name": "Python 3 (ipykernel)",
   "language": "python",
   "name": "python3"
  },
  "language_info": {
   "codemirror_mode": {
    "name": "ipython",
    "version": 3
   },
   "file_extension": ".py",
   "mimetype": "text/x-python",
   "name": "python",
   "nbconvert_exporter": "python",
   "pygments_lexer": "ipython3",
   "version": "3.9.7"
  }
 },
 "nbformat": 4,
 "nbformat_minor": 2
}
