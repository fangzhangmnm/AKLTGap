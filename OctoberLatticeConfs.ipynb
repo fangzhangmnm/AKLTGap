{
 "cells": [
  {
   "cell_type": "code",
   "execution_count": null,
   "metadata": {},
   "outputs": [],
   "source": [
    "# Rhombitrihexagonal Decorated Triangle\n",
    "# eta0  0.2 tol  0.001 eta  0.4550677815435794\n",
    "spins=[4,4,4,2,2,2,2,2,2,4,4,4,2,2,2,2]\n",
    "conns=[1,2,2,3,3,1,4,1,5,2,6,2,7,3,\n",
    "       1,9,9,10,3,8,8,12,\n",
    "       10,11,11,12,12,10,13,10,14,11,15,11,16,12]\n",
    "connsL=np.array(conns).reshape(-1,2)-1\n",
    "connsM=connsL\n",
    "connsR=connsL\n",
    "connsLM=connsL\n",
    "connsMR=connsL\n",
    "left=range(0,7)\n",
    "middle=range(7,9)\n",
    "right=range(9,16)\n",
    "check_dimL=2**6\n",
    "check_dimM=3**2\n",
    "check_dimR=2**6"
   ]
  },
  {
   "cell_type": "code",
   "execution_count": null,
   "metadata": {},
   "outputs": [],
   "source": [
    "# Rhombitrihexagonal All Decorated\n",
    "# eta0  0.2 tol  0.001 eta  0.4414161840494927\n",
    "spins=[4,2,4,2,4,2,2,2,2,2,2,2,4,2,4,2,4,2,2,2,2,2]\n",
    "conns=[1,2,2,3,3,4,4,5,5,6,6,1, 7,1,8,3,9,3,10,5,\n",
    "      1,12,12,13,5,11,11,17,\n",
    "      13,14,14,15,15,16,16,17,17,18,18,13, 13,19,15,20,15,21,17,22]\n",
    "connsL=np.array(conns).reshape(-1,2)-1\n",
    "connsM=connsL\n",
    "connsR=connsL\n",
    "connsLM=connsL\n",
    "connsMR=connsL\n",
    "left=range(0,10)\n",
    "middle=range(10,12)\n",
    "right=range(12,22)\n",
    "check_dimL=2**6\n",
    "check_dimM=3**2\n",
    "check_dimR=2**6"
   ]
  },
  {
   "cell_type": "code",
   "execution_count": null,
   "metadata": {},
   "outputs": [],
   "source": [
    "# Rhombitrihexagonal All Decorated Bigger Subgraph\n",
    "\n",
    "spins=[4,2,4,2,4,2,4,2,4,2,2,2,4,2,2,4,2,2,4,2,2,2,2,2,\n",
    "       2,4,2,2,4,2,\n",
    "       4,2,4,2,4,2,4,2,4,2,2,2,4,2,2,4,2,2,4,2,2,2,2,2,]\n",
    "conns=[1,2,2,3,3,4,4,5,5,6,6,7,7,8,8,9,9,10,10,1, 5,11,11,9, 12,13,13,14, 15,16,16,17,17,5, 18,19,19,20,20,7, 21,3,22,3,23,7,24,9,\n",
    "       21,26,14,26,1,25,1,30,\n",
    "       25,26,26,27, 28,29,29,30,\n",
    "       27,31,28,31, 29,44,29,51,\n",
    "       31,32,32,33,33,34,34,35,35,36,36,37,37,38,38,39,39,40,40,31, 33,41,41,37, 42,43,43,44,45,46,46,47,47,37,48,49,49,50,50,35, 51,39,52,39,53,35,54,33]\n",
    "connsL=np.array(conns).reshape(-1,2)-1\n",
    "connsM=connsL\n",
    "connsR=connsL\n",
    "connsLM=connsL\n",
    "connsMR=connsL\n",
    "left=range(0,24)\n",
    "middle=range(24,30)\n",
    "right=range(30,54)\n",
    "check_dimL=2**10*3**3\n",
    "check_dimM=2**8\n",
    "check_dimR=2**10*3**3"
   ]
  },
  {
   "cell_type": "code",
   "execution_count": null,
   "metadata": {},
   "outputs": [],
   "source": [
    "# Kagome Decorated 4-Triangle Subgraph\n",
    "\n",
    "# 5653it [1:34:14,  1.00s/it, 2.0323123973306525>2.0221388836559346]\n",
    "# eta0  0.03 tol  0 eta  0.061837628687323176\n",
    "\n",
    "# 21it [00:22,  1.05s/it, 0.6964883420000261>1.938592142278469]\n",
    "# eta0  0.05 tol  0.01 eta  0.06134625404240779\n",
    "spins=[4,2,4,2,4,2,4,2,4,2,4,2,2,2,2,4,2,4,2,4,2,4,2,4,2,4,2,4,2,4,2,4,2,2,2,2]\n",
    "def c(l):\n",
    "    rtval=[]\n",
    "    for i in range(len(l)):\n",
    "        rtval+=[l[i],l[(i+1)%len(l)]]\n",
    "    return rtval\n",
    "conns=c([1,2,3,4,5,6])+c([7,8,9,10,11,12])+c([1,14,7,15,16,13])+c([16,17,18,19,20,21])+c([22,23,24,25,26,27])+c([28,29,30,31,32,33])+c([20,34,22,35,28,36])\n",
    "connsL=np.array(conns).reshape(-1,2)-1\n",
    "connsM=connsL\n",
    "connsR=connsL\n",
    "connsLM=connsL\n",
    "connsMR=connsL\n",
    "left=range(0,15)\n",
    "middle=range(15,21)\n",
    "right=range(21,36)\n",
    "check_dimL=2**2*3**4\n",
    "check_dimM=3**3\n",
    "check_dimR=2**2*3**4"
   ]
  },
  {
   "cell_type": "code",
   "execution_count": null,
   "metadata": {},
   "outputs": [],
   "source": [
    "# Kagome half-decorated 4-Triangle Subgraph\n",
    "\n",
    "# 761it [11:35,  1.09it/s, 2.00119417083936>1.2548859265413053]\n",
    "# eta0  0.03 tol  0 eta  0.06387620158855317\n",
    "\n",
    "spins=[4,2,4,2,4,2,4,2,4,2,4,2,4,2,4,2,4,2,4,2,4,2,4,2,4,2,4,2,4,2]\n",
    "def c(l):\n",
    "    rtval=[]\n",
    "    for i in range(len(l)):\n",
    "        rtval+=[l[i],l[(i+1)%len(l)]]\n",
    "    return rtval\n",
    "conns=c([1,2,3,4,5,6])+c([7,8,9,10,11,12])+c([13,14,15,16,17,18])+c([19,20,21,22,23,24])+c([25,26,27,28,29,30])+c([1,7,13])+c([17,19,25])\n",
    "connsL=np.array(conns).reshape(-1,2)-1\n",
    "connsM=connsL\n",
    "connsR=connsL\n",
    "connsLM=connsL\n",
    "connsMR=connsL\n",
    "left=range(0,12)\n",
    "middle=range(12,18)\n",
    "right=range(18,30)\n",
    "check_dimL=2**2*3**4\n",
    "check_dimM=3**3\n",
    "check_dimR=2**2*3**4"
   ]
  },
  {
   "cell_type": "code",
   "execution_count": null,
   "metadata": {},
   "outputs": [],
   "source": []
  },
  {
   "cell_type": "code",
   "execution_count": null,
   "metadata": {},
   "outputs": [],
   "source": [
    "# decorated kagome trianglecross subsubpatch\n",
    "# 941it [00:41, 22.77it/s] tol 0 gap 0.08716168256542652\n",
    "spins=[4,2,4,2,4,2,2,2]\n",
    "conns=[1,2,2,3,3,4,4,5,5,6,6,1,1,7,1,8]\n",
    "conns=np.array(conns).reshape(-1,2)-1\n",
    "weights=[1/3]*6+[1]*2"
   ]
  },
  {
   "cell_type": "code",
   "execution_count": null,
   "metadata": {},
   "outputs": [],
   "source": [
    "# half ddecorated kagome 424242loop\n",
    "# 391it [00:12, 32.12it/s] tol 0 gap 0.27562963488417125\n",
    "spins=[4,2,4,2,4,2]\n",
    "conns=[1,2,2,3,3,4,4,5,5,6,6,1]\n",
    "conns=np.array(conns).reshape(-1,2)-1\n",
    "weights=[1]*6"
   ]
  },
  {
   "cell_type": "code",
   "execution_count": null,
   "metadata": {},
   "outputs": [],
   "source": [
    "# half decorated kagome 444loop\n",
    "# 21it [00:00, 25.89it/s]  tol 0 gap 0.7857142857142855\n",
    "spins=[4,4,4]\n",
    "conns=[1,2,2,3,3,1]\n",
    "conns=np.array(conns).reshape(-1,2)-1\n",
    "weights=[1]*3"
   ]
  },
  {
   "cell_type": "code",
   "execution_count": 5,
   "metadata": {},
   "outputs": [
    {
     "name": "stdout",
     "output_type": "stream",
     "text": [
      "0.04511322919593322\n",
      "0.028375058500507866\n",
      "0.07312318828177866\n"
     ]
    }
   ],
   "source": [
    "print(0.08716168256542652*0.5175809813224945)\n",
    "print(0.08716168256542652*0.5175809813224945*(1-6*0.061837628687323176))\n",
    "print(0.11856350720567028*(1-6*0.06387620158855317))"
   ]
  },
  {
   "cell_type": "code",
   "execution_count": null,
   "metadata": {},
   "outputs": [],
   "source": [
    "# decorated kagome subgraph proj gap\n",
    "# 1541it [10:20,  2.48it/s] tol 0 gap 0.5175809813224945 (Not multiplied!)\n",
    "# 0.08716168256542652*0.5175809813224945==0.04511322919593322\n",
    "# 0.08716168256542652*0.5175809813224945*(1-6*0.061837628687323176)==0.028375058500507866\n",
    "spins=[4,2,4,2,4,2]*3+[2,2,2]\n",
    "def c(l):\n",
    "    rtval=[]\n",
    "    for i in range(len(l)):\n",
    "        rtval+=[l[i],l[(i+1)%len(l)]]\n",
    "    return rtval\n",
    "conns=c([1,2,3,4,5,6])+c([7,8,9,10,11,12])+c([13,14,15,16,17,18])+c([1,19,7,20,13,21])\n",
    "conns=np.array(conns).reshape(-1,2)-1\n",
    "proj_parts=[[1,2,3,4,5,6,19,21],[7,8,9,10,11,12,19,20],[13,14,15,16,17,18,20,21]]\n",
    "proj_parts=[[i-1 for i in j]for j in proj_parts]\n",
    "proj_weights=[1,1,1] # not multipled by subsubpatch gap!\n",
    "iso_parts=[[1,2,3,4,5,6],[7,8,9,10,11,12],[13,14,15,16,17,18],[19],[20],[21]]\n",
    "iso_parts=[[i-1 for i in j]for j in iso_parts]\n",
    "all_parts=[i for j in iso_parts for i in j]"
   ]
  },
  {
   "cell_type": "code",
   "execution_count": null,
   "metadata": {},
   "outputs": [],
   "source": [
    "# half decorated kagome subgraph proj gap\n",
    "# 91it [01:42,  1.13s/it] tol 0.01 gap 0.11870922149487453\n",
    "# 17191it [5:36:55,  1.18s/it] tol 0 gap 0.11856350720567028\n",
    "# 0.11856350720567028*(1-6*0.06387620158855317)==0.07312318828177866\n",
    "spins=[4,2,4,2,4,2]*3\n",
    "def c(l):\n",
    "    rtval=[]\n",
    "    for i in range(len(l)):\n",
    "        rtval+=[l[i],l[(i+1)%len(l)]]\n",
    "    return rtval\n",
    "conns=c([1,2,3,4,5,6])+c([7,8,9,10,11,12])+c([13,14,15,16,17,18])+c([1,7,13])\n",
    "conns=np.array(conns).reshape(-1,2)-1\n",
    "proj_parts=[[1,2,3,4,5,6],[7,8,9,10,11,12],[13,14,15,16,17,18],[1,7,13]]\n",
    "proj_parts=[[i-1 for i in j]for j in proj_parts]\n",
    "proj_weights=[0.27562963488417125,0.27562963488417125,0.27562963488417125,0.7857142857142855]\n",
    "iso_parts=[[2,3,4,5,6],[8,9,10,11,12],[14,15,16,17,18],[1],[7],[13]]\n",
    "iso_parts=[[i-1 for i in j]for j in iso_parts]\n",
    "all_parts=[i for j in iso_parts for i in j]"
   ]
  }
 ],
 "metadata": {
  "kernelspec": {
   "display_name": "Python 3",
   "language": "python",
   "name": "python3"
  },
  "language_info": {
   "codemirror_mode": {
    "name": "ipython",
    "version": 3
   },
   "file_extension": ".py",
   "mimetype": "text/x-python",
   "name": "python",
   "nbconvert_exporter": "python",
   "pygments_lexer": "ipython3",
   "version": "3.7.4"
  }
 },
 "nbformat": 4,
 "nbformat_minor": 2
}
